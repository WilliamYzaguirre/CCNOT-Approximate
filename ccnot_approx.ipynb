{
 "cells": [
  {
   "cell_type": "code",
   "execution_count": 452,
   "metadata": {},
   "outputs": [],
   "source": [
    "from qiskit import QuantumRegister, ClassicalRegister\n",
    "from qiskit import QuantumCircuit, execute\n",
    "from qiskit import Aer\n",
    "import qutip\n",
    "import numpy as np\n",
    "from scipy.optimize import minimize\n",
    "from qiskit.visualization import array_to_latex\n",
    "\n",
    "import pyswarms as ps\n",
    "from pyswarms.utils.functions import single_obj as fx\n",
    "from pyswarms.single.global_best import GlobalBestPSO\n",
    "from pyswarms.utils.functions import single_obj as fx\n",
    "from pyswarms.utils.plotters import (plot_cost_history, plot_contour, plot_surface)\n",
    "\n",
    "import copy\n",
    "import random\n",
    "import time\n",
    "\n",
    "from qutip import *\n",
    "\n",
    "#Supress default INFO logging. Looking at you QISKIT >:(\n",
    "\n",
    "import logging\n",
    "logger = logging.getLogger()\n",
    "logger.setLevel(logging.CRITICAL)\n",
    "\n",
    "import matplotlib.pyplot as plt\n",
    "%matplotlib inline\n"
   ]
  },
  {
   "cell_type": "code",
   "execution_count": 453,
   "metadata": {},
   "outputs": [],
   "source": [
    "# Will be using this backend to get matrix from circuit\n",
    "backend = Aer.get_backend('unitary_simulator')"
   ]
  },
  {
   "cell_type": "markdown",
   "metadata": {},
   "source": [
    "# The CCNOT Gate\n",
    "We will start here by defining and showing the CCNOT gate in a basic circuit in qiskit"
   ]
  },
  {
   "cell_type": "code",
   "execution_count": 454,
   "metadata": {},
   "outputs": [
    {
     "data": {
      "text/html": [
       "<pre style=\"word-wrap: normal;white-space: pre;background: #fff0;line-height: 1.1;font-family: &quot;Courier New&quot;,Courier,monospace\">     ┌───┐\n",
       "q_0: ┤ X ├\n",
       "     └─┬─┘\n",
       "q_1: ──■──\n",
       "       │  \n",
       "q_2: ──■──\n",
       "          </pre>"
      ],
      "text/plain": [
       "     ┌───┐\n",
       "q_0: ┤ X ├\n",
       "     └─┬─┘\n",
       "q_1: ──■──\n",
       "       │  \n",
       "q_2: ──■──\n",
       "          "
      ]
     },
     "execution_count": 454,
     "metadata": {},
     "output_type": "execute_result"
    }
   ],
   "source": [
    "n = 3\n",
    "ccnot_qc = QuantumCircuit(n)\n",
    "\n",
    "ccnot_qc.toffoli(1,2,0)\n",
    "ccnot_qc.draw()"
   ]
  },
  {
   "cell_type": "markdown",
   "metadata": {},
   "source": [
    "We can then use .get_unitary() to get the unitary for a given circuit"
   ]
  },
  {
   "cell_type": "code",
   "execution_count": 455,
   "metadata": {},
   "outputs": [
    {
     "data": {
      "text/latex": [
       "$$\n",
       "\n",
       "\\begin{bmatrix}\n",
       "1 & 0 & 0 & 0 & 0 & 0 & 0 & 0  \\\\\n",
       " 0 & 1 & 0 & 0 & 0 & 0 & 0 & 0  \\\\\n",
       " 0 & 0 & 1 & 0 & 0 & 0 & 0 & 0  \\\\\n",
       " 0 & 0 & 0 & 1 & 0 & 0 & 0 & 0  \\\\\n",
       " 0 & 0 & 0 & 0 & 1 & 0 & 0 & 0  \\\\\n",
       " 0 & 0 & 0 & 0 & 0 & 1 & 0 & 0  \\\\\n",
       " 0 & 0 & 0 & 0 & 0 & 0 & 0 & 1  \\\\\n",
       " 0 & 0 & 0 & 0 & 0 & 0 & 1 & 0  \\\\\n",
       " \\end{bmatrix}\n",
       "$$"
      ],
      "text/plain": [
       "<IPython.core.display.Latex object>"
      ]
     },
     "execution_count": 455,
     "metadata": {},
     "output_type": "execute_result"
    }
   ],
   "source": [
    "ccnot_job = execute(ccnot_qc, backend, shots=8192)\n",
    "ccnot_result = ccnot_job.result()\n",
    "ccnot_matrix = ccnot_result.get_unitary()\n",
    "array_to_latex(ccnot_matrix)"
   ]
  },
  {
   "cell_type": "markdown",
   "metadata": {},
   "source": [
    "As you can see above, we get the correct matrix for a CCNOT gate. Now let's look at a different circuit, that also acts on 3 qubits, and get the matrix representation:"
   ]
  },
  {
   "cell_type": "code",
   "execution_count": 456,
   "metadata": {},
   "outputs": [
    {
     "data": {
      "text/html": [
       "<pre style=\"word-wrap: normal;white-space: pre;background: #fff0;line-height: 1.1;font-family: &quot;Courier New&quot;,Courier,monospace\">          \n",
       "q_0: ──■──\n",
       "     ┌─┴─┐\n",
       "q_1: ┤ X ├\n",
       "     ├───┤\n",
       "q_2: ┤ H ├\n",
       "     └───┘</pre>"
      ],
      "text/plain": [
       "          \n",
       "q_0: ──■──\n",
       "     ┌─┴─┐\n",
       "q_1: ┤ X ├\n",
       "     ├───┤\n",
       "q_2: ┤ H ├\n",
       "     └───┘"
      ]
     },
     "execution_count": 456,
     "metadata": {},
     "output_type": "execute_result"
    }
   ],
   "source": [
    "n = 3\n",
    "qc2 = QuantumCircuit(n)\n",
    "\n",
    "qc2.h(2)\n",
    "qc2.cx(0,1)\n",
    "qc2.draw()"
   ]
  },
  {
   "cell_type": "code",
   "execution_count": 457,
   "metadata": {},
   "outputs": [
    {
     "data": {
      "text/latex": [
       "$$\n",
       "\n",
       "\\begin{bmatrix}\n",
       "\\tfrac{1}{\\sqrt{2}} & 0 & 0 & 0 & \\tfrac{1}{\\sqrt{2}} & 0 & 0 & 0  \\\\\n",
       " 0 & 0 & 0 & \\tfrac{1}{\\sqrt{2}} & 0 & 0 & 0 & \\tfrac{1}{\\sqrt{2}}  \\\\\n",
       " 0 & 0 & \\tfrac{1}{\\sqrt{2}} & 0 & 0 & 0 & \\tfrac{1}{\\sqrt{2}} & 0  \\\\\n",
       " 0 & \\tfrac{1}{\\sqrt{2}} & 0 & 0 & 0 & \\tfrac{1}{\\sqrt{2}} & 0 & 0  \\\\\n",
       " \\tfrac{1}{\\sqrt{2}} & 0 & 0 & 0 & -\\tfrac{1}{\\sqrt{2}} & 0 & 0 & 0  \\\\\n",
       " 0 & 0 & 0 & \\tfrac{1}{\\sqrt{2}} & 0 & 0 & 0 & -\\tfrac{1}{\\sqrt{2}}  \\\\\n",
       " 0 & 0 & \\tfrac{1}{\\sqrt{2}} & 0 & 0 & 0 & -\\tfrac{1}{\\sqrt{2}} & 0  \\\\\n",
       " 0 & \\tfrac{1}{\\sqrt{2}} & 0 & 0 & 0 & -\\tfrac{1}{\\sqrt{2}} & 0 & 0  \\\\\n",
       " \\end{bmatrix}\n",
       "$$"
      ],
      "text/plain": [
       "<IPython.core.display.Latex object>"
      ]
     },
     "execution_count": 457,
     "metadata": {},
     "output_type": "execute_result"
    }
   ],
   "source": [
    "job = execute(qc2, backend, shots=8192)\n",
    "result = job.result()\n",
    "matrix2 = result.get_unitary()\n",
    "array_to_latex(matrix2)"
   ]
  },
  {
   "cell_type": "markdown",
   "metadata": {},
   "source": [
    "Just from looking at the matrix representation for these two 3-qubit circuits, you can see that they are very different. But how cna we quantify how different they are? A great solution to this would be to use the Hilbert Schmidt Distance:\n",
    "$$d(U,V) = \\sqrt{1-\\frac{||Tr(U\\dag V)||^{2}}{N^{2}}}$$\n",
    "The Hilbert Schmidt distance is a good measure for how similar two unitaries U and V are. This is defined below:"
   ]
  },
  {
   "cell_type": "code",
   "execution_count": 484,
   "metadata": {},
   "outputs": [
    {
     "name": "stdout",
     "output_type": "stream",
     "text": [
      "Hilber Schmidt distance between CCNOT and previously defined 3 qubit circuit is 0.9519716382329886\n"
     ]
    }
   ],
   "source": [
    "# Broken down step by step to see what's going on\n",
    "def hilbert_schmidt_dist(U, V, n):\n",
    "    temp = U.data.conj() @ V.data\n",
    "    temp = temp.trace()\n",
    "    temp = np.abs(temp)\n",
    "    temp = temp\n",
    "    temp = temp/(2**n)**2\n",
    "    temp = 1 - temp\n",
    "    temp = np.sqrt(temp)\n",
    "    return temp\n",
    "\n",
    "# Pythony one line\n",
    "def hsd(U,V,n):\n",
    "    N=2**n\n",
    "    return np.sqrt(1-np.abs((U.data.conj() @ V.data).trace())**2/N**2)\n",
    "\n",
    "print(\"Hilber Schmidt distance between CCNOT and previously defined 3 qubit circuit is {}\".format(hilbert_schmidt_dist(matrix2, ccnot_matrix, 3)))"
   ]
  },
  {
   "cell_type": "markdown",
   "metadata": {},
   "source": [
    "Now let's get into the circuits that we'll be using today. In order to approximate the CCNOT gate with 2 qubit unitaries, we must first figure out how to parameterize a general 2 qubit unitary gate and 1 qubit gate. A 1 qubit gate is easier, as it's defined in the description for the u gate in qiskit:\n",
    "$$U(\\theta,\\phi,\\lambda) = \\begin{pmatrix} cos(\\frac{\\theta}{2}) & -e^{i\\lambda}sin(\\frac{\\theta}{2})\\\\ e^{i\\phi}sin(\\frac{\\theta}{2}) & e^{i(\\phi + \\lambda)}cos(\\frac{\\theta}{2}) \\end{pmatrix}$$\n",
    "As you can see, a general 1 qubit unitary gate can be parameterized with 3 values. Now what about a general 2 qubit unitary? As it turns out, a 2 qubit unitary can be parameterized with 15 values. We can actually define a general 2 qubit unitary as:\n",
    "$$U_{AB} = (U_{A}\\otimes U_{B})U_{d}(V_{A}\\otimes V_{B})$$\n",
    "Which corresponds to:"
   ]
  },
  {
   "attachments": {
    "image.png": {
     "image/png": "[encoded data removed]"
    }
   },
   "cell_type": "markdown",
   "metadata": {},
   "source": [
    "![image.png](attachment:image.png)"
   ]
  },
  {
   "cell_type": "markdown",
   "metadata": {},
   "source": [
    "Where $U_{A}, U_{B}, V_{A}, V_{B}$ are 1 qubit unitaries and $U_{d}$ is a 2 qubit unitary. This circuit can be used to parameterize any 2 qubit unitary! Now, as we showed above, we can parameterize single qubit unitaries with 3 values, so, with our 4 single qubit unitaries, we're up to 12 parameters. But what about $U_{d}$? This can actually be parameterized with 3 values as well. We can define $U_{d}$ as:\n",
    "$$U_{d}(\\alpha _{1}, \\alpha _{2}, \\alpha _{3}) = \\sum_{k=1}^4 e^{-i\\lambda _{k}}\\ket{\\phi _{k}} \\bra{\\phi _{k}}$$\n",
    "Where:\n",
    "$$\\lambda _{1} = \\alpha _{1}-\\alpha _{2}+\\alpha _{3}$$\n",
    "$$\\lambda _{2} = -\\alpha _{1}+\\alpha _{2}+\\alpha _{3}$$\n",
    "$$\\lambda _{3} = -\\alpha _{1}-\\alpha _{2}-\\alpha _{3}$$\n",
    "$$\\lambda _{4} = \\alpha _{1}+\\alpha _{2}-\\alpha _{3}$$\n",
    "And:\n",
    "$$\\ket{\\phi _{1}} = \\ket{\\Phi ^{+}}$$\n",
    "$$\\ket{\\phi _{2}} = -i\\ket{\\Phi ^{-}}$$\n",
    "$$\\ket{\\phi _{3}} = \\ket{\\Psi ^{-}}$$\n",
    "$$\\ket{\\phi _{4}} = -i\\ket{\\Psi ^{+}}$$\n",
    "Since $U_{d}$ requires another 3 parameters, we have just shown that a general 2 qubit unitary can be parameterized with 15 parameters. So how can this help us approximate CCNOT? Well, if we were to take this general 2 qubit circuit (shown in picture above), and apply it in a circuit 4 times across all qubit wires, we may be able to find proper values for these parameters that get close to CCNOT. Let's start by building this big circuit:"
   ]
  },
  {
   "cell_type": "code",
   "execution_count": 459,
   "metadata": {},
   "outputs": [
    {
     "name": "stdout",
     "output_type": "stream",
     "text": [
      "Full 60 parameter circuit using 4 blocks of generalized 2 qubit unitaries with random parameters between 2*pi and 0\n"
     ]
    },
    {
     "data": {
      "text/html": [
       "<pre style=\"word-wrap: normal;white-space: pre;background: #fff0;line-height: 1.1;font-family: &quot;Courier New&quot;,Courier,monospace\">     ┌─────────────────────────┐ ┌──────────┐┌─────────────────────────┐  ░ »\n",
       "q_0: ┤ U(5.3008,4.1566,2.1873) ├─┤0         ├┤ U(3.3322,3.1996,5.7033) ├──░─»\n",
       "     ├─────────────────────────┴┐│  Unitary │├─────────────────────────┴┐ ░ »\n",
       "q_1: ┤ U(2.4377,4.7389,0.63729) ├┤1         ├┤ U(3.0653,4.9842,0.76021) ├─░─»\n",
       "     └──────────────────────────┘└──────────┘└──────────────────────────┘ ░ »\n",
       "q_2: ─────────────────────────────────────────────────────────────────────░─»\n",
       "                                                                          ░ »\n",
       "«                                                                             »\n",
       "«q_0: ────────────────────────────────────────────────────────────────────────»\n",
       "«     ┌─────────────────────────┐ ┌──────────┐┌──────────────────────────────┐»\n",
       "«q_1: ┤ U(2.3364,3.7293,1.0893) ├─┤0         ├┤ U(0.17601,0.0017237,0.86981) ├»\n",
       "«     ├─────────────────────────┴┐│  Unitary │└─┬──────────────────────────┬─┘»\n",
       "«q_2: ┤ U(5.3107,6.1238,0.70241) ├┤1         ├──┤ U(4.1991,2.5612,0.44713) ├──»\n",
       "«     └──────────────────────────┘└──────────┘  └──────────────────────────┘  »\n",
       "«      ░ ┌─────────────────────────┐┌──────────┐┌──────────────────────────┐ ░ »\n",
       "«q_0: ─░─┤ U(1.3828,2.9675,0.8957) ├┤0         ├┤ U(1.2569,2.4071,0.11576) ├─░─»\n",
       "«      ░ └─────────────────────────┘│          │└──────────────────────────┘ ░ »\n",
       "«q_1: ─░────────────────────────────┤  Unitary ├─────────────────────────────░─»\n",
       "«      ░ ┌─────────────────────────┐│          │ ┌────────────────────────┐  ░ »\n",
       "«q_2: ─░─┤ U(2.1814,5.3554,3.7928) ├┤1         ├─┤ U(0.606,5.8255,4.1703) ├──░─»\n",
       "«      ░ └─────────────────────────┘└──────────┘ └────────────────────────┘  ░ »\n",
       "«                                                                      \n",
       "«q_0: ─────────────────────────────────────────────────────────────────\n",
       "«      ┌────────────────────────┐┌──────────┐┌────────────────────────┐\n",
       "«q_1: ─┤ U(3.3455,6.2188,6.232) ├┤0         ├┤ U(1.497,4.3458,3.7192) ├\n",
       "«     ┌┴────────────────────────┤│  Unitary │├───────────────────────┬┘\n",
       "«q_2: ┤ U(3.9039,4.4011,1.0374) ├┤1         ├┤ U(5.353,3.7395,5.783) ├─\n",
       "«     └─────────────────────────┘└──────────┘└───────────────────────┘ </pre>"
      ],
      "text/plain": [
       "     ┌─────────────────────────┐ ┌──────────┐┌─────────────────────────┐  ░ »\n",
       "q_0: ┤ U(5.3008,4.1566,2.1873) ├─┤0         ├┤ U(3.3322,3.1996,5.7033) ├──░─»\n",
       "     ├─────────────────────────┴┐│  Unitary │├─────────────────────────┴┐ ░ »\n",
       "q_1: ┤ U(2.4377,4.7389,0.63729) ├┤1         ├┤ U(3.0653,4.9842,0.76021) ├─░─»\n",
       "     └──────────────────────────┘└──────────┘└──────────────────────────┘ ░ »\n",
       "q_2: ─────────────────────────────────────────────────────────────────────░─»\n",
       "                                                                          ░ »\n",
       "«                                                                             »\n",
       "«q_0: ────────────────────────────────────────────────────────────────────────»\n",
       "«     ┌─────────────────────────┐ ┌──────────┐┌──────────────────────────────┐»\n",
       "«q_1: ┤ U(2.3364,3.7293,1.0893) ├─┤0         ├┤ U(0.17601,0.0017237,0.86981) ├»\n",
       "«     ├─────────────────────────┴┐│  Unitary │└─┬──────────────────────────┬─┘»\n",
       "«q_2: ┤ U(5.3107,6.1238,0.70241) ├┤1         ├──┤ U(4.1991,2.5612,0.44713) ├──»\n",
       "«     └──────────────────────────┘└──────────┘  └──────────────────────────┘  »\n",
       "«      ░ ┌─────────────────────────┐┌──────────┐┌──────────────────────────┐ ░ »\n",
       "«q_0: ─░─┤ U(1.3828,2.9675,0.8957) ├┤0         ├┤ U(1.2569,2.4071,0.11576) ├─░─»\n",
       "«      ░ └─────────────────────────┘│          │└──────────────────────────┘ ░ »\n",
       "«q_1: ─░────────────────────────────┤  Unitary ├─────────────────────────────░─»\n",
       "«      ░ ┌─────────────────────────┐│          │ ┌────────────────────────┐  ░ »\n",
       "«q_2: ─░─┤ U(2.1814,5.3554,3.7928) ├┤1         ├─┤ U(0.606,5.8255,4.1703) ├──░─»\n",
       "«      ░ └─────────────────────────┘└──────────┘ └────────────────────────┘  ░ »\n",
       "«                                                                      \n",
       "«q_0: ─────────────────────────────────────────────────────────────────\n",
       "«      ┌────────────────────────┐┌──────────┐┌────────────────────────┐\n",
       "«q_1: ─┤ U(3.3455,6.2188,6.232) ├┤0         ├┤ U(1.497,4.3458,3.7192) ├\n",
       "«     ┌┴────────────────────────┤│  Unitary │├───────────────────────┬┘\n",
       "«q_2: ┤ U(3.9039,4.4011,1.0374) ├┤1         ├┤ U(5.353,3.7395,5.783) ├─\n",
       "«     └─────────────────────────┘└──────────┘└───────────────────────┘ "
      ]
     },
     "execution_count": 459,
     "metadata": {},
     "output_type": "execute_result"
    }
   ],
   "source": [
    "# unitary_block builds a block of gates shown in image above\n",
    "# matrix_param: list of 3 parameters to build Ud\n",
    "# param: list of 12 parameters to build 4 single qubit unitaries Ua, Ub, Va, and Vb\n",
    "def unitary_block(circ, wires, matrix_param, param):\n",
    "    matrix = build_Ud(matrix_param[0], matrix_param[1], matrix_param[2])\n",
    "    circ.u(param[0], param[1], param[2], wires[0])\n",
    "    circ.u(param[3], param[4], param[5], wires[1])\n",
    "    circ.unitary(matrix, [wires[0], wires[1]])\n",
    "    circ.u(param[6], param[7], param[8], wires[1])\n",
    "    circ.u(param[9], param[10], param[11], wires[0])\n",
    "    return circ.to_instruction\n",
    "\n",
    "# builds Ud as described above\n",
    "def build_Ud(x,y,z):\n",
    "    b1 = qutip.bell_state('00')\n",
    "    b2 = qutip.bell_state('01')\n",
    "    b3 = qutip.bell_state('10')\n",
    "    b4 = qutip.bell_state('11')\n",
    "    \n",
    "    t1 = x-y+z\n",
    "    t2 = -x+y+z\n",
    "    t3 = -x-y-z\n",
    "    t4 = x+y-z\n",
    "    \n",
    "    unitary = np.exp(-1.0j*t1)*(b1*b1.dag()) +\\\n",
    "        np.exp(-1.0j*t2)*(b2*b2.dag()) +\\\n",
    "        np.exp(-1.0j*t3)*(b3*b3.dag()) +\\\n",
    "        np.exp(-1.0j*t4)*(b4*b4.dag())\n",
    "    return unitary\n",
    "    \n",
    "# takes a list of 60 parameters. 15 for each block\n",
    "# For the 15 for each block, first 3 are for 2 qubit unitary matrix, last 12 are for 4 single qubit rotations\n",
    "def build_circuit(param):\n",
    "    qc = QuantumCircuit(3)\n",
    "    unitary_block(qc, [0,1], param[:3], param[3:15])\n",
    "    qc.barrier()\n",
    "    unitary_block(qc, [1,2], param[15:18], param[18:30])\n",
    "    qc.barrier()\n",
    "    unitary_block(qc, [0,2], param[30:33], param[33:45])\n",
    "    qc.barrier()\n",
    "    unitary_block(qc, [1,2], param[45:48], param[48:60])\n",
    "    return qc\n",
    "        \n",
    "\n",
    "test_params = (np.random.uniform(0, 1, 60) * (2*np.pi - 0) + 0)\n",
    "qc = build_circuit(test_params)\n",
    "print(\"Full 60 parameter circuit using 4 blocks of generalized 2 qubit unitaries with random parameters between 2*pi and 0\")\n",
    "qc.draw()"
   ]
  },
  {
   "cell_type": "markdown",
   "metadata": {},
   "source": [
    "Now let's take a look at the matrix that this circuit creates:"
   ]
  },
  {
   "cell_type": "code",
   "execution_count": 460,
   "metadata": {},
   "outputs": [
    {
     "data": {
      "text/latex": [
       "$$\n",
       "\n",
       "\\begin{bmatrix}\n",
       "0.40722 + 0.1443i & 0.37441 + 0.21544i & 0.41913 - 0.21551i & -0.41291 + 0.23478i & -0.04339 + 0.3418i & -0.01159 + 0.0744i & -0.04542 - 0.06251i & 0.20478 - 0.08209i  \\\\\n",
       " 0.27306 - 0.33638i & 0.06163 + 0.26966i & -0.07413 + 0.08735i & -0.06104 - 0.30207i & -0.09023 - 0.29085i & -0.10268 - 0.2947i & -0.07925 + 0.23375i & 0.14707 - 0.59582i  \\\\\n",
       " 0.10874 - 0.38807i & -0.65576 + 0.01578i & 0.36629 - 0.34397i & -0.05385 + 0.0493i & -0.23231 - 0.10809i & -0.10115 + 0.16933i & -0.08351 - 0.18714i & -0.03108 + 0.0444i  \\\\\n",
       " 0.04916 + 0.05258i & -0.21155 - 0.15496i & -0.00496 + 0.1493i & -0.24813 - 0.05771i & 0.02678 + 0.08426i & 0.588 + 0.47123i & -0.05769 + 0.4303i & -0.10707 - 0.25153i  \\\\\n",
       " 0.10484 - 0.57269i & 0.2934 - 0.00093i & 0.09145 + 0.25026i & 0.10658 - 0.37147i & -0.04138 + 0.19999i & 0.34777 + 0.08692i & -0.02761 - 0.28476i & 0.05549 + 0.31539i  \\\\\n",
       " 0.18179 + 0.12905i & -0.18875 - 0.25278i & -0.25364 + 0.02042i & 0.02962 - 0.07132i & -0.39234 + 0.5516i & 0.04171 - 0.37265i & -0.32241 - 0.1327i & -0.1959 - 0.14604i  \\\\\n",
       " -0.25137 + 0.03377i & -0.04844 + 0.05407i & 0.42882 + 0.15055i & 0.5807 + 0.05114i & 0.00247 + 0.36055i & -0.01234 + 0.0665i & 0.20872 + 0.00307i & 0.15028 - 0.42812i  \\\\\n",
       " -0.03327 + 0.06273i & 0.11166 + 0.18575i & 0.26064 + 0.28237i & 0.15449 + 0.30028i & 0.05578 - 0.28648i & 0.12675 - 0.02214i & -0.65774 - 0.15172i & -0.35504 - 0.05331i  \\\\\n",
       " \\end{bmatrix}\n",
       "$$"
      ],
      "text/plain": [
       "<IPython.core.display.Latex object>"
      ]
     },
     "execution_count": 460,
     "metadata": {},
     "output_type": "execute_result"
    }
   ],
   "source": [
    "qc_job = execute(qc, backend, shots=8192)\n",
    "qc_result = qc_job.result()\n",
    "qc_matrix = qc_result.get_unitary()\n",
    "array_to_latex(qc_matrix)"
   ]
  },
  {
   "cell_type": "markdown",
   "metadata": {},
   "source": [
    "Oof, that's hard to look at. For fun, how about we calculate the Hilbert-Schmidt distance between these random parameters and CCNOT:"
   ]
  },
  {
   "cell_type": "code",
   "execution_count": 461,
   "metadata": {},
   "outputs": [
    {
     "name": "stdout",
     "output_type": "stream",
     "text": [
      "Hilbert Schmidt distance between randomized parameter circuit and CCNOT is 0.9941663926056596\n"
     ]
    }
   ],
   "source": [
    "print(\"Hilbert Schmidt distance between randomized parameter circuit and CCNOT is {}\".format(hsd(qc_matrix, ccnot_matrix, 3)))"
   ]
  },
  {
   "cell_type": "markdown",
   "metadata": {},
   "source": [
    "Hmm well that's not good. How can we make this better? Well, we can try to use optimization algorithms to get a better set of parameters. To do this, we need to start with a loss function. In this case, we'll build the circuit with a list of 60 parameters, then calculate the Hilbert-Schmidt distance of this circuit and CCNOT to get the loss. This loss will then be used by our algorithm to find a better set of parameters, and so on. For the loss function, we can use:"
   ]
  },
  {
   "cell_type": "code",
   "execution_count": 462,
   "metadata": {},
   "outputs": [],
   "source": [
    "# takes a list of 60 parameters. 15 for each block\n",
    "# For the 15 for each block, first 3 are for 2 qubit unitary matrix, last 12 are for 4 single qubit rotations\n",
    "def get_loss(param):\n",
    "    qc = build_circuit(param)\n",
    "    job = execute(qc, backend, shots=8192)\n",
    "    result = job.result()\n",
    "    matrix = result.get_unitary()\n",
    "    return hsd(matrix, ccnot_matrix, 3)\n",
    "    \n",
    "def get_swarm_loss(param):\n",
    "    ret = np.zeros(len(param))\n",
    "    for i in range(len(param)):\n",
    "        qc = build_circuit(param[i])\n",
    "        job = execute(qc, backend, shots=8192)\n",
    "        result = job.result()\n",
    "        matrix = result.get_unitary()\n",
    "        ret[i] = hsd(matrix, ccnot_matrix, 3)\n",
    "    return ret"
   ]
  },
  {
   "cell_type": "markdown",
   "metadata": {},
   "source": [
    "Now let's think about the optimization algorithm that we want to use. Personally, I'm enamored with \"natural\" optimization algorithms, or optimizatoin algorithms that are based on occurences in nature. So I'll start with one of those. It just so happens that there is an algorithm that has been developed after the hunting patterns of my favorite animal, the Grey Wolf. The Grey Wolf optimization algorithm was first proposed in 2014 by Seyedali Mirjalili. You can find the original paper here:\n",
    "https://img1.wsimg.com/blobby/go/e8abc963-7b19-40d6-a270-eed55d317dba/GWO_finalVersion.pdf\n",
    "Basically, the algorithm is meant to mimmick the way that a pack of wolves hunts it's prey. It is part of a class of optimization algorithms known as swarm intelligence optimization, which, at their most basic, create \"searchers\" are random places within the search space of the function you are optimizing, and \"move\" these searchers until they find a good answer. Here, the searchers are meant to be a wolf pack, and the way they move is meant to mimmick the hunting patterns of said wolf pack. I wanted to have some fun with programming something, so let's write it from scratch (with some help from the author) below! Oh, I also added a survival of the fittest upgrade to the algorithm found in this paper: https://www.nature.com/articles/s41598-019-43546-3. I couldn't get all of their upgrades to work in time, but it's defintely better with the survival of the fittest component. This basically just eliminates the worst R number of wolves and replaces them with new randomized wolves every iteration. Helps with getting stuck in local minimums."
   ]
  },
  {
   "cell_type": "code",
   "execution_count": 463,
   "metadata": {},
   "outputs": [],
   "source": [
    "# this class will hold all the important information that we want from the optimization algorithm\n",
    "class GreyWolfOptimizerOutput:\n",
    "    def __init__(self, start_time):\n",
    "        self._start_time = start_time\n",
    "    \n",
    "    def set_end(self, end_time):\n",
    "        self._end_time = end_time\n",
    "        \n",
    "    def set_curve(self, converge):\n",
    "        self._converge_curve = converge\n",
    "        \n",
    "    def set_total_time(self, total):\n",
    "        self._time_take = total\n",
    "        \n",
    "    def set_params(self, params):\n",
    "        self._best_params = params\n",
    "        \n",
    "    def set_fitness(self, fitness):\n",
    "        self._best_fitness = fitness\n",
    "        \n",
    "    def set_opt_params(self, count, iter, upper, lower, remove):\n",
    "        self._wolf_count = count\n",
    "        self._iterations = iter\n",
    "        self._upper = upper\n",
    "        self._lower = lower\n",
    "        self._remove = remove\n",
    "\n",
    "# obj_func: objective function (also called fitness function) that you are using to optimize\n",
    "# max_iterations: number of optimization loops run\n",
    "# wolf_count: number of searchers/nodes/particles \n",
    "# dimensions: number of parameters you are optimizing for\n",
    "# upper_bound: upper bound on parameter value\n",
    "# lower_bound: lower bound on parameter value\n",
    "# remove: number of wolves that die and get replaced every iteration (maybe not every, still messing with optimal implementation)\n",
    "def GreyWolfOptimizer(obj_func, max_iterations, wolf_count, dimensions, upper_bound, lower_bound, remove):\n",
    "     # Alrighty then, let's start by initializing the Alpha, Beta, and Delta wolves info\n",
    "    Alpha_pos = np.zeros(dimensions)\n",
    "    Alpha_score = float(\"inf\")\n",
    "\n",
    "    Beta_pos = np.zeros(dimensions)\n",
    "    Beta_score = float(\"inf\")\n",
    "\n",
    "    Delta_pos = np.zeros(dimensions)\n",
    "    Delta_score = float(\"inf\")\n",
    "\n",
    "    # Now let's build our pack, or \"search agents\" if you're a nerd.\n",
    "    # This will be an array of random parameters for each wolf. So it'll be wolf_count x dimensions in size\n",
    "    Positions = np.zeros((wolf_count, dimensions))\n",
    "    for i in range(dimensions):\n",
    "        Positions[:, i] = (np.random.uniform(0, 1, wolf_count) * (upper_bound - lower_bound) + lower_bound) # rand init within bound\n",
    "        \n",
    "    # For graphing later\n",
    "    Convergence_curve = np.zeros(max_iterations)\n",
    "\n",
    "    # Initialize class that holds info and start the clock!\n",
    "    out = GreyWolfOptimizerOutput(time.strftime(\"%Y-%m-%d-%H-%M-%S\"))\n",
    "    timerStart = time.time()\n",
    "    # Main loop\n",
    "    for l in range(0, max_iterations):\n",
    "        # remove_list holds position of wolves with the worst (highest) fitness score\n",
    "        # They will die in this harsh winter, but will be replaced by new pups\n",
    "        # worst wolf is at front (0), tuple order is [position][fitness]\n",
    "        remove_list = [[0.0, 0.0] for _ in range(remove)]\n",
    "        for i in range(0, wolf_count):\n",
    "\n",
    "            # Return back the wolves that go beyond the boundaries of the search space\n",
    "            for j in range(dimensions):\n",
    "                Positions[i, j] = np.clip(Positions[i, j], lower_bound, upper_bound)\n",
    "\n",
    "            # Calculate objective/fitness function for each wolf\n",
    "            fitness = obj_func(Positions[i, :])\n",
    "\n",
    "            # Update Alpha, Beta, and Delta\n",
    "            # This is their implentation. I don't like this. Might fix later\n",
    "            # Is it faster to sort to find best and worst every loop? Hmmmmmm\n",
    "            if fitness < Alpha_score:\n",
    "                Delta_score = Beta_score \n",
    "                Delta_pos = Beta_pos.copy()\n",
    "                Beta_score = Alpha_score\n",
    "                Beta_pos = Alpha_pos.copy()\n",
    "                Alpha_score = fitness\n",
    "                Alpha_pos = Positions[i, :].copy()\n",
    "\n",
    "            if fitness > Alpha_score and fitness < Beta_score:\n",
    "                Delta_score = Beta_score\n",
    "                Delta_pos = Beta_pos.copy()\n",
    "                Beta_score = fitness\n",
    "                Beta_pos = Positions[i, :].copy()\n",
    "\n",
    "            if fitness > Alpha_score and fitness > Beta_score and fitness < Delta_score:\n",
    "                Delta_score = fitness\n",
    "                Delta_pos = Positions[i, :].copy()\n",
    "                \n",
    "            # SURVIVAL OF THE FITTEST\n",
    "            # Find out if wolf is one of the worst, if so, add it to list and pop best on list\n",
    "            # RIP wolves\n",
    "            for j in range(remove):\n",
    "                if fitness > remove_list[j][1]:\n",
    "                    remove_list.insert(j, [i, fitness])\n",
    "                    del remove_list[-1]\n",
    "                    break\n",
    "            \n",
    "        # New wolves in the pack\n",
    "        # Initialize new wolves with random values\n",
    "        for r in remove_list:\n",
    "            Positions[r[0]] = (np.random.uniform(0, 1, dimensions) * (upper_bound - lower_bound) + lower_bound)\n",
    "            \n",
    "        # Used for updating, scales from 2 to 0 as the function and hunt progress\n",
    "        a = 2 - l * ((2) / max_iterations)\n",
    "\n",
    "        # Update the Position of the wolves\n",
    "        # I don't think it's super important to go into vivid detail about why/how the updating process works. \n",
    "        # But feel free to check out the paper. They got some pretty good results.\n",
    "        for i in range(0, wolf_count):\n",
    "            for j in range(0, dimensions):\n",
    "\n",
    "                r1 = random.random()  # r1 is a random number in [0,1]\n",
    "                r2 = random.random()  # r2 is a random number in [0,1]\n",
    "\n",
    "                A1 = 2 * a * r1 - a\n",
    "                C1 = 2 * r2\n",
    "\n",
    "                D_alpha = abs(C1 * Alpha_pos[j] - Positions[i, j])\n",
    "                X1 = Alpha_pos[j] - A1 * D_alpha\n",
    "\n",
    "                r1 = random.random()\n",
    "                r2 = random.random()\n",
    "\n",
    "                A2 = 2 * a * r1 - a\n",
    "                C2 = 2 * r2\n",
    "\n",
    "                D_beta = abs(C2 * Beta_pos[j] - Positions[i, j])\n",
    "                X2 = Beta_pos[j] - A2 * D_beta\n",
    "\n",
    "                r1 = random.random()\n",
    "                r2 = random.random()\n",
    "\n",
    "                A3 = 2 * a * r1 - a\n",
    "                C3 = 2 * r2\n",
    "\n",
    "                D_delta = abs(C3 * Delta_pos[j] - Positions[i, j])\n",
    "                X3 = Delta_pos[j] - A3 * D_delta\n",
    "\n",
    "                Positions[i, j] = (X1 + X2 + X3) / 3\n",
    "\n",
    "        Convergence_curve[l] = Alpha_score\n",
    "        print([\"At iteration \" + str(l) + \" the best fitness is \" + str(Alpha_score)])\n",
    "\n",
    "    # Get all useful information before finishing funciton\n",
    "    timerEnd = time.time()\n",
    "    out.set_params(Alpha_pos)\n",
    "    out.set_curve(Convergence_curve)\n",
    "    out.set_end(time.strftime(\"%Y-%m-%d-%H-%M-%S\"))\n",
    "    out.set_fitness(Alpha_score)\n",
    "    out.set_total_time(timerEnd - timerStart)\n",
    "    out.set_opt_params(wolf_count, max_iterations, upper_bound, lower_bound, remove)\n",
    "\n",
    "    return out"
   ]
  },
  {
   "cell_type": "markdown",
   "metadata": {},
   "source": [
    "60 parameters really is a lot to optimize though, so let's try to get that number down. Fortuntely, some of the gates in our original naive implementation cancel out, and we can actually get the number of parameters down to 45 with the following circuit!"
   ]
  },
  {
   "attachments": {
    "image.png": {
     "image/png": "[encoded data removed]"
    }
   },
   "cell_type": "markdown",
   "metadata": {},
   "source": [
    "![image.png](attachment:image.png)"
   ]
  },
  {
   "cell_type": "markdown",
   "metadata": {},
   "source": [
    "Implementation:"
   ]
  },
  {
   "cell_type": "code",
   "execution_count": 464,
   "metadata": {},
   "outputs": [
    {
     "name": "stdout",
     "output_type": "stream",
     "text": [
      "0.9904572465869768\n"
     ]
    },
    {
     "data": {
      "text/html": [
       "<pre style=\"word-wrap: normal;white-space: pre;background: #fff0;line-height: 1.1;font-family: &quot;Courier New&quot;,Courier,monospace\">     ┌──────────────────────────┐                                       »\n",
       "q_0: ┤ U(1.8633,3.6101,0.33406) ├───────────────────────────────────────»\n",
       "     ├──────────────────────────┤┌──────────┐┌─────────────────────────┐»\n",
       "q_1: ┤ U(4.9311,0.41775,5.9517) ├┤0         ├┤ U(5.2607,3.6112,4.6256) ├»\n",
       "     ├─────────────────────────┬┘│  Unitary │├─────────────────────────┤»\n",
       "q_2: ┤ U(4.8592,5.6206,3.1684) ├─┤1         ├┤ U(6.1924,1.1208,2.9897) ├»\n",
       "     └─────────────────────────┘ └──────────┘└─────────────────────────┘»\n",
       "«     ┌──────────┐ ┌────────────────────────┐ ┌──────────┐»\n",
       "«q_0: ┤0         ├─┤ U(2.6009,2.6629,5.378) ├─┤0         ├»\n",
       "«     │  Unitary │┌┴────────────────────────┴┐│          │»\n",
       "«q_1: ┤1         ├┤ U(2.7028,4.6391,0.81682) ├┤  Unitary ├»\n",
       "«     └──────────┘└──────────────────────────┘│          │»\n",
       "«q_2: ────────────────────────────────────────┤1         ├»\n",
       "«                                             └──────────┘»\n",
       "«     ┌────────────────────────────┐                                        \n",
       "«q_0: ┤ U(1.3661,0.0082659,2.5559) ├────────────────────────────────────────\n",
       "«     └────────────────────────────┘┌──────────┐┌─────────────────────────┐ \n",
       "«q_1: ──────────────────────────────┤0         ├┤ U(5.1741,2.7521,3.6571) ├─\n",
       "«      ┌─────────────────────────┐  │  Unitary │├─────────────────────────┴┐\n",
       "«q_2: ─┤ U(1.6296,5.6291,0.4205) ├──┤1         ├┤ U(0.17758,4.6299,5.1266) ├\n",
       "«      └─────────────────────────┘  └──────────┘└──────────────────────────┘</pre>"
      ],
      "text/plain": [
       "     ┌──────────────────────────┐                                       »\n",
       "q_0: ┤ U(1.8633,3.6101,0.33406) ├───────────────────────────────────────»\n",
       "     ├──────────────────────────┤┌──────────┐┌─────────────────────────┐»\n",
       "q_1: ┤ U(4.9311,0.41775,5.9517) ├┤0         ├┤ U(5.2607,3.6112,4.6256) ├»\n",
       "     ├─────────────────────────┬┘│  Unitary │├─────────────────────────┤»\n",
       "q_2: ┤ U(4.8592,5.6206,3.1684) ├─┤1         ├┤ U(6.1924,1.1208,2.9897) ├»\n",
       "     └─────────────────────────┘ └──────────┘└─────────────────────────┘»\n",
       "«     ┌──────────┐ ┌────────────────────────┐ ┌──────────┐»\n",
       "«q_0: ┤0         ├─┤ U(2.6009,2.6629,5.378) ├─┤0         ├»\n",
       "«     │  Unitary │┌┴────────────────────────┴┐│          │»\n",
       "«q_1: ┤1         ├┤ U(2.7028,4.6391,0.81682) ├┤  Unitary ├»\n",
       "«     └──────────┘└──────────────────────────┘│          │»\n",
       "«q_2: ────────────────────────────────────────┤1         ├»\n",
       "«                                             └──────────┘»\n",
       "«     ┌────────────────────────────┐                                        \n",
       "«q_0: ┤ U(1.3661,0.0082659,2.5559) ├────────────────────────────────────────\n",
       "«     └────────────────────────────┘┌──────────┐┌─────────────────────────┐ \n",
       "«q_1: ──────────────────────────────┤0         ├┤ U(5.1741,2.7521,3.6571) ├─\n",
       "«      ┌─────────────────────────┐  │  Unitary │├─────────────────────────┴┐\n",
       "«q_2: ─┤ U(1.6296,5.6291,0.4205) ├──┤1         ├┤ U(0.17758,4.6299,5.1266) ├\n",
       "«      └─────────────────────────┘  └──────────┘└──────────────────────────┘"
      ]
     },
     "execution_count": 464,
     "metadata": {},
     "output_type": "execute_result"
    }
   ],
   "source": [
    "# takes a list of 60 parameters. 15 for each block\n",
    "# For the 15 for each block, first 3 are for 2 qubit unitary matrix, last 12 are for 4 single qubit rotations\n",
    "def build_circuit2(params):\n",
    "    qc = QuantumCircuit(3)\n",
    "    qc.u(params[0], params[1], params[2], 0)\n",
    "    qc.u(params[3], params[4], params[5], 1)\n",
    "    qc.u(params[6], params[7], params[8], 2)\n",
    "    matrix = build_Ud(params[9], params[10], params[11])\n",
    "    qc.unitary(matrix, [1,2])\n",
    "    qc.u(params[12], params[13], params[14], 1)\n",
    "    matrix = build_Ud(params[15], params[16], params[17])\n",
    "    qc.unitary(matrix, [0,1])\n",
    "    qc.u(params[18], params[19], params[20], 2)\n",
    "    qc.u(params[21], params[22], params[23], 1)\n",
    "    qc.u(params[24], params[25], params[26], 0)\n",
    "    matrix = build_Ud(params[27], params[28], params[29])\n",
    "    qc.unitary(matrix, [0,2])\n",
    "    qc.u(params[30], params[31], params[32], 0)\n",
    "    qc.u(params[33], params[34], params[35], 2)\n",
    "    matrix = build_Ud(params[36], params[37], params[38])\n",
    "    qc.unitary(matrix, [1,2])\n",
    "    qc.u(params[39], params[40], params[41], 1)\n",
    "    qc.u(params[42], params[43], params[44], 2)\n",
    "    return qc\n",
    "    \n",
    "def get_loss2(param):\n",
    "    qc = build_circuit2(param)\n",
    "    job = execute(qc, backend, shots=8192)\n",
    "    result = job.result()\n",
    "    matrix = result.get_unitary()\n",
    "    return hsd(matrix, ccnot_matrix, 3)\n",
    "    \n",
    "def get_swarm_loss2(param):\n",
    "    ret = np.zeros(len(param))\n",
    "    for i in range(len(param)):\n",
    "        qc = build_circuit2(param[i])\n",
    "        job = execute(qc, backend, shots=8192)\n",
    "        result = job.result()\n",
    "        matrix = result.get_unitary()\n",
    "        ret[i] = hsd(matrix, ccnot_matrix, 3)\n",
    "    return ret\n",
    "        \n",
    "\n",
    "#test_params = [np.pi for x in range(60)]\n",
    "test_params = (np.random.uniform(0, 1, 45) * (2*np.pi - 0) + 0)\n",
    "l = get_loss2(test_params)\n",
    "print(l)\n",
    "qc = build_circuit2(test_params)\n",
    "qc.draw()"
   ]
  },
  {
   "cell_type": "markdown",
   "metadata": {},
   "source": [
    "This is much more managable. Unfortunetly though, I ran into another road block with this implementation: using qiskit to build the circuit everytime to get the matrix for the loss function is a lot of computational overhead that we don't need. We can instead build the circuit in qutip to eliminate this issue. We'll use the new 45 parameter circuit this time, and build the unitaries just like we did before:"
   ]
  },
  {
   "cell_type": "code",
   "execution_count": null,
   "metadata": {},
   "outputs": [
    {
     "name": "stdout",
     "output_type": "stream",
     "text": [
      "Quantum object: dims = [[2], [2]], shape = (2, 2), type = oper, isherm = False\n",
      "Qobj data =\n",
      "[[ 0.        +0.j          0.9899925 -0.14112001j]\n",
      " [-0.41614684+0.90929743j  0.        +0.j        ]]\n"
     ]
    }
   ],
   "source": [
    "phi_p = 1/np.sqrt(2)*((tensor(basis(2,0),basis(2,0)) + tensor(basis(2,1),basis(2,1))))\n",
    "phi_m = 1/np.sqrt(2)*((tensor(basis(2,0),basis(2,0)) - tensor(basis(2,1),basis(2,1))))\n",
    "psi_p = 1/np.sqrt(2)*((tensor(basis(2,0),basis(2,1)) + tensor(basis(2,1),basis(2,0))))\n",
    "psi_m = 1/np.sqrt(2)*((tensor(basis(2,0),basis(2,1)) - tensor(basis(2,1),basis(2,0))))\n",
    "\n",
    "\n",
    "def d1(x, y, z):\n",
    "    ket = phi_p\n",
    "    bra = ket.dag()\n",
    "    lam = x - y + z \n",
    "    return np.exp(-1.0j*lam)*ket*bra\n",
    "\n",
    "def d2(x, y, z):\n",
    "    ket = -1.0j*phi_m\n",
    "    bra = ket.dag()\n",
    "    lam = -x + y + z \n",
    "    return np.exp(-1.0j*lam)*ket*bra\n",
    "    \n",
    "def d3(x, y, z):\n",
    "    ket = psi_m\n",
    "    bra = ket.dag()\n",
    "    lam = -x - y - z \n",
    "    return np.exp(-1.0j*lam)*ket*bra    \n",
    "\n",
    "def d4(x, y, z):\n",
    "    ket = -1.0j*psi_p\n",
    "    bra = ket.dag()\n",
    "    lam = x + y - z \n",
    "    return np.exp(-1.0j*lam)*ket*bra    \n",
    "    \n",
    "    \n",
    "def u2(theta,phi,alpha):\n",
    "    return d1(theta,phi,alpha)+d2(theta,phi,alpha)+d3(theta,phi,alpha)+d4(theta,phi,alpha)\n",
    "\n",
    "def u1(theta,phi,lam):\n",
    "    a = np.cos(theta/2) * (basis(2,0)*basis(2,0).dag())\n",
    "    b = -np.exp(1.0j*lam)*np.sin(theta/2) * (basis(2,0)*basis(2,1).dag())\n",
    "    c = np.exp(1.0j*phi)*np.sin(theta/2) *(basis(2,1)*basis(2,0).dag())\n",
    "    d = np.exp(1.0j*(phi+lam))*np.cos(theta/2)*(basis(2,1)*basis(2,1).dag())\n",
    "    return a+b+c+d\n",
    "\n",
    "print(u1(np.pi, 2, 3))\n",
    "SWAP = tensor(qeye(2),(tensor(ket('0')*bra('0'),ket('0')*bra('0'))+tensor(ket('1')*bra('1'),ket('1')*bra('1'))+tensor(ket('1')*bra('0'),ket('0')*bra('1'))+tensor(ket('0')*bra('1'),ket('1')*bra('0'))))\n",
    "CCNOT = tensor(ket('0')*bra('0'),ket('0')*bra('0'),qeye(2))+tensor(ket('1')*bra('1'),ket('0')*bra('0'),qeye(2))+tensor(ket('0')*bra('0'),ket('1')*bra('1'),qeye(2))+tensor(ket('1')*bra('1'),ket('1')*bra('1'),sigmax())\n"
   ]
  },
  {
   "cell_type": "code",
   "execution_count": null,
   "metadata": {},
   "outputs": [
    {
     "name": "stdout",
     "output_type": "stream",
     "text": [
      "[[ 5.19988583e-04+0.93794633j  4.08651967e-03+0.01383883j\n",
      "   1.17621197e-01-0.21428475j -9.62107625e-02+0.03991677j\n",
      "   7.54889589e-02-0.18472519j -7.33003025e-02-0.03274164j\n",
      "  -2.80495631e-02+0.04802717j  9.15446697e-03-0.00123168j]\n",
      " [-1.17621197e-01+0.21428475j  1.13839039e-01-0.17294745j\n",
      "  -7.67788641e-02+0.04934203j  1.25420281e-01-0.03533967j\n",
      "  -5.72406445e-01+0.61126341j -9.31467886e-02+0.23836294j\n",
      "   3.09068041e-01+0.01011898j -7.70946224e-02-0.06094293j]\n",
      " [-4.08651967e-03-0.01383883j  1.12939742e-01+0.92966871j\n",
      "   1.13839039e-01-0.17294745j  6.42087250e-02+0.07440977j\n",
      "  -1.41157677e-02+0.16146099j  6.02512590e-02+0.14951862j\n",
      "   8.15994443e-02-0.09951008j -3.18438831e-02+0.01982588j]\n",
      " [-9.62107625e-02+0.03991677j -6.42087250e-02-0.07440977j\n",
      "  -1.25420281e-01+0.03533967j -1.04300537e-01-0.05542045j\n",
      "  -1.68859822e-01-0.3544903j   4.95939529e-01+0.63443091j\n",
      "   1.33770182e-02-0.35369556j  3.57006074e-02+0.13918248j]\n",
      " [-7.54889589e-02+0.18472519j -1.41157677e-02+0.16146099j\n",
      "  -5.72406445e-01+0.61126341j  1.68859822e-01+0.3544903j\n",
      "   1.19326808e-01-0.08261524j -9.84115582e-02-0.10591774j\n",
      "   8.91936675e-02-0.13556793j -1.00005082e-01+0.01171548j]\n",
      " [-2.80495631e-02+0.04802717j -8.15994443e-02+0.09951008j\n",
      "  -3.09068041e-01-0.01011898j  1.33770182e-02-0.35369556j\n",
      "  -8.91936675e-02+0.13556793j -2.16410634e-01+0.11903477j\n",
      "  -5.82344680e-01+0.17115468j -6.06867743e-02+0.5477242j ]\n",
      " [-7.33003025e-02-0.03274164j -6.02512590e-02-0.14951862j\n",
      "   9.31467886e-02-0.23836294j  4.95939529e-01+0.63443091j\n",
      "   9.84115582e-02+0.10591774j  2.20357766e-02+0.21852096j\n",
      "  -2.16410634e-01+0.11903477j  3.01664684e-01+0.18020098j]\n",
      " [-9.15446697e-03+0.00123168j -3.18438831e-02+0.01982588j\n",
      "  -7.70946224e-02-0.06094293j -3.57006074e-02-0.13918248j\n",
      "  -1.00005082e-01+0.01171548j -3.01664684e-01-0.18020098j\n",
      "   6.06867743e-02-0.5477242j   7.24843686e-01+0.07421839j]]\n",
      "[[ 0.07388753+0.74250628j  0.303964  +0.1215765j   0.14497086-0.36359279j\n",
      "  -0.09159489-0.03021637j  0.34609624+0.09201694j  0.05370311-0.16552249j\n",
      "  -0.11450535+0.04244204j  0.00491534+0.00792368j]\n",
      " [-0.4820875 +0.01448646j  0.4150057 -0.6028192j  -0.18910878-0.098503j\n",
      "  -0.04696187+0.16850867j -0.04523386+0.12373782j -0.30805219+0.0179202j\n",
      "   0.15464917+0.13654598j  0.02341516-0.00340873j]\n",
      " [ 0.06474143+0.06906643j  0.15878605+0.24777039j -0.3851295 +0.32763721j\n",
      "   0.2560899 +0.11540192j  0.12641819+0.32236508j  0.20960918-0.23378032j\n",
      "   0.52524792+0.14952238j -0.08903383-0.21261538j]\n",
      " [-0.03795902+0.03244284j -0.03694537+0.09588546j -0.33362212-0.37302855j\n",
      "   0.54703789-0.41420152j -0.24175035+0.1347462j  -0.21649472-0.04951833j\n",
      "  -0.08819457-0.17131457j -0.24115264+0.2108954j ]\n",
      " [-0.37768502+0.06644646j -0.08748331+0.35690105j -0.26585957+0.05454851j\n",
      "   0.0487221 +0.03048471j  0.33697325-0.64670184j -0.27623078+0.09065377j\n",
      "   0.06774896+0.13992351j -0.0135493 +0.01730061j]\n",
      " [-0.11344354-0.19747315j  0.21383593-0.14625138j -0.11118182-0.28113244j\n",
      "   0.08295758-0.16925737j  0.25916211-0.18270899j  0.67175957+0.35731021j\n",
      "   0.1365756 -0.23401278j  0.02470117-0.02426256j]\n",
      " [-0.00099456+0.01173349j -0.06004828+0.21313587j -0.23800341-0.1864221j\n",
      "  -0.42043472+0.38309641j -0.08226908+0.11059511j -0.07574882+0.0210237j\n",
      "   0.26463105-0.54170687j -0.07295286+0.37672828j]\n",
      " [-0.00491534-0.00792368j -0.09009563+0.02729981j  0.07811283-0.18066472j\n",
      "   0.07971317-0.20412789j -0.06718517-0.0453586j  -0.1359861 -0.19612385j\n",
      "   0.34567725-0.16310938j  0.82641527-0.10816261j]]\n"
     ]
    }
   ],
   "source": [
    "def qutip_circ(params):\n",
    "    # u1 gates on 0,1,2\n",
    "    l1 = tensor(u1(params[0], params[1], params[2]), u1(params[3], params[4], params[5]), u1(params[6], params[7], params[8]))\n",
    "    # u2 gate on 1,2\n",
    "    l2 = tensor(qeye(2), u2(params[9], params[10], params[11]))\n",
    "    # u1 gates on 1,2\n",
    "    l3 = tensor(qeye(2), u1(params[12], params[13], params[14]), u1(params[15], params[16], params[17]))\n",
    "    # u2 gate on 0,1\n",
    "    l4 = tensor(u2(params[18], params[19], params[20]), qeye(2))\n",
    "    # u1 gates on 0,1\n",
    "    l5 = tensor(u1(params[21], params[22], params[23]), u1(params[24], params[25], params[26]), qeye(2))\n",
    "    # SWAP on 1,2\n",
    "    l6 = SWAP\n",
    "    # u2 gate on 0,1\n",
    "    l7 = tensor(u2(params[27], params[28], params[29]), qeye(2))\n",
    "    # SWAP on 1,2\n",
    "    l8 = SWAP\n",
    "    # u1 gates on 0,2\n",
    "    l9 = tensor(u1(params[30], params[31], params[32]), qeye(2), u1(params[33], params[34], params[35]))\n",
    "    # u2 gate on 1,2\n",
    "    l10 = tensor(qeye(2), u2(params[36], params[37], params[38]))\n",
    "    # u1 gates on 1,2\n",
    "    l11 = tensor(qeye(2), u1(params[39], params[40], params[41]), u1(params[42], params[43], params[44]))\n",
    "    return l11*l10*l9*l8*l7*l6*l5*l4*l3*l2*l1\n",
    "\n",
    "# without the visualization tools, it's hard to tell which circuit is correct. but it's this one\n",
    "def qutip_circ2(params):\n",
    "    l1 = tensor(u1(params[8],params[7],params[6]),u1(params[5],params[4],params[3]),u1(params[2],params[1],params[0]))\n",
    "    l2 = tensor(u2(params[11],params[10],params[9]),qeye(2))\n",
    "    l3 = tensor(qeye(2),u1(params[14],params[13],params[12]),qeye(2))\n",
    "    l4 = tensor(u1(params[20],params[19],params[18]),u2(params[17],params[16],params[15]))\n",
    "    l5 = tensor(qeye(2),u1(params[23],params[22],params[21]),qeye(2))\n",
    "    l6 = tensor(u2(params[26],params[25],params[24]),qeye(2))\n",
    "    l7 = tensor(u1(params[35],params[34],params[33]),u1(params[32],params[31],params[30]),u1(params[29],params[28],params[27]))\n",
    "    l8 = SWAP\n",
    "    l9 = tensor(u2(params[38],params[37],params[36]),qeye(2))\n",
    "    l10 = SWAP\n",
    "    l11 = tensor(u1(params[44],params[43],params[42]),qeye(2),u1(params[41],params[40],params[39]))\n",
    "    return l11*l10*l9*l8*l7*l6*l5*l4*l3*l2*l1\n",
    "    \n",
    "\n",
    "params = np.ones(45)\n",
    "print(qutip_circ(params).full())\n",
    "print(qutip_circ2(params).full())"
   ]
  },
  {
   "cell_type": "markdown",
   "metadata": {},
   "source": [
    "This way is a lot less readable in my opinion, hence why I started with qiskit. But we now have the unitaries up and running, so lets define a new loss function."
   ]
  },
  {
   "cell_type": "code",
   "execution_count": null,
   "metadata": {},
   "outputs": [
    {
     "name": "stdout",
     "output_type": "stream",
     "text": [
      "[0.99710371 0.99490066 0.98228482 0.99733788 0.99640979 0.98916981\n",
      " 0.99338886 0.99649829 0.99489506 0.99736599]\n"
     ]
    }
   ],
   "source": [
    "def hsd_qutip(U, V, n):\n",
    "    N = 2**n\n",
    "    temp = (np.abs(Qobj.tr(U.dag()*V))**2/(N)**2)\n",
    "    temp = 1-temp\n",
    "    return np.sqrt(temp)\n",
    "\n",
    "def get_loss_qutip(params):\n",
    "    return hsd_qutip(qutip_circ2(params), CCNOT, 3)\n",
    "\n",
    "def get_loss_qutip_swarm(params):\n",
    "    ret = np.zeros(len(params))\n",
    "    for i in range(len(params)):\n",
    "        ret[i] = hsd_qutip(qutip_circ2(params[i]), CCNOT, 3)\n",
    "    return ret\n",
    "\n",
    "#print(hsd_qutip(SWAP, CCNOT, 3))\n",
    "t_params = np.ones(45)\n",
    "#print(get_loss_qutip(t_params))\n",
    "t_params_swarm = np.ones((10, 45))\n",
    "#print(get_loss_qutip_swarm(t_params_swarm))\n",
    "\n",
    "Positions = np.zeros((10, 45))\n",
    "for i in range(10):\n",
    "    Positions[i] = (np.random.uniform(0, 1, 45) * (2*np.pi - 0) + 0)\n",
    "#print(Positions)\n",
    "#print(hsd_qutip(qutip_circ(Positions), CCNOT, 3))\n",
    "print(get_loss_qutip_swarm(Positions))"
   ]
  },
  {
   "cell_type": "markdown",
   "metadata": {},
   "source": [
    "And now we can use this loss function with optimization algorithms to find the best set of parameters to approximate the CCNOT gate. We'll start with swarm optimization, and then try the grey wolf algorithm:"
   ]
  },
  {
   "cell_type": "code",
   "execution_count": null,
   "metadata": {},
   "outputs": [],
   "source": [
    "particle_swarm_runs_qutip = []"
   ]
  },
  {
   "cell_type": "code",
   "execution_count": null,
   "metadata": {},
   "outputs": [
    {
     "name": "stderr",
     "output_type": "stream",
     "text": [
      "pyswarms.single.global_best: 100%|██████████|1000/1000, best_cost=0.838\n"
     ]
    }
   ],
   "source": [
    "#use particle swarm\n",
    "# Set-up hyperparameters\n",
    "options = {'c1':0.5, 'c2':0.9, 'w':0.9}\n",
    "\n",
    "#bounds (min, max)\n",
    "bounds = (0 * np.ones(45), 2*np.pi * np.ones(45))\n",
    "\n",
    "# Call instance of PSO\n",
    "optimizer = ps.single.GlobalBestPSO(n_particles=250, dimensions=45, options=options, bounds = bounds)\n",
    "\n",
    "# Perform optimization\n",
    "logger.setLevel(logging.CRITICAL)\n",
    "start = time.time()\n",
    "best_fitness, best_param = optimizer.optimize(get_loss_qutip_swarm, iters=1000)\n",
    "end = time.time()\n",
    "particle_swarm_runs_qutip.append([optimizer, start-end])"
   ]
  },
  {
   "cell_type": "code",
   "execution_count": null,
   "metadata": {},
   "outputs": [
    {
     "data": {
      "image/png": "[encoded data removed]",
      "text/plain": [
       "<Figure size 720x576 with 1 Axes>"
      ]
     },
     "metadata": {
      "needs_background": "light"
     },
     "output_type": "display_data"
    }
   ],
   "source": [
    "plot_cost_history(cost_history=optimizer.cost_history)\n",
    "plt.xlabel(\"Fitness score (Hilbert Schmidt Distance)\")\n",
    "plt.ylabel(\"Iterations\")\n",
    "plt.title(\"Particle Swarm Optimizer Convergence Curve\")\n",
    "plt.show()"
   ]
  },
  {
   "cell_type": "code",
   "execution_count": null,
   "metadata": {},
   "outputs": [],
   "source": [
    "grey_wolf_runs_qutip = []"
   ]
  },
  {
   "cell_type": "code",
   "execution_count": null,
   "metadata": {},
   "outputs": [
    {
     "name": "stdout",
     "output_type": "stream",
     "text": [
      "['At iteration 0 the best fitness is 0.9568353713780685']\n",
      "['At iteration 1 the best fitness is 0.9568353713780685']\n",
      "['At iteration 2 the best fitness is 0.9568353713780685']\n",
      "['At iteration 3 the best fitness is 0.9568353713780685']\n",
      "['At iteration 4 the best fitness is 0.9568353713780685']\n",
      "['At iteration 5 the best fitness is 0.9568353713780685']\n",
      "['At iteration 6 the best fitness is 0.9568353713780685']\n",
      "['At iteration 7 the best fitness is 0.9568353713780685']\n",
      "['At iteration 8 the best fitness is 0.9568353713780685']\n",
      "['At iteration 9 the best fitness is 0.9568353713780685']\n",
      "['At iteration 10 the best fitness is 0.9568353713780685']\n",
      "['At iteration 11 the best fitness is 0.9568353713780685']\n",
      "['At iteration 12 the best fitness is 0.9568353713780685']\n",
      "['At iteration 13 the best fitness is 0.9568353713780685']\n",
      "['At iteration 14 the best fitness is 0.9568353713780685']\n",
      "['At iteration 15 the best fitness is 0.9568353713780685']\n",
      "['At iteration 16 the best fitness is 0.9568353713780685']\n",
      "['At iteration 17 the best fitness is 0.9568353713780685']\n",
      "['At iteration 18 the best fitness is 0.9568353713780685']\n",
      "['At iteration 19 the best fitness is 0.9568353713780685']\n",
      "['At iteration 20 the best fitness is 0.9568353713780685']\n",
      "['At iteration 21 the best fitness is 0.9568353713780685']\n",
      "['At iteration 22 the best fitness is 0.9568353713780685']\n",
      "['At iteration 23 the best fitness is 0.947697224213619']\n",
      "['At iteration 24 the best fitness is 0.947697224213619']\n",
      "['At iteration 25 the best fitness is 0.947697224213619']\n",
      "['At iteration 26 the best fitness is 0.947697224213619']\n",
      "['At iteration 27 the best fitness is 0.947697224213619']\n",
      "['At iteration 28 the best fitness is 0.947697224213619']\n",
      "['At iteration 29 the best fitness is 0.947697224213619']\n",
      "['At iteration 30 the best fitness is 0.947697224213619']\n",
      "['At iteration 31 the best fitness is 0.947697224213619']\n",
      "['At iteration 32 the best fitness is 0.947697224213619']\n",
      "['At iteration 33 the best fitness is 0.947697224213619']\n",
      "['At iteration 34 the best fitness is 0.947697224213619']\n",
      "['At iteration 35 the best fitness is 0.947697224213619']\n",
      "['At iteration 36 the best fitness is 0.947697224213619']\n",
      "['At iteration 37 the best fitness is 0.947697224213619']\n",
      "['At iteration 38 the best fitness is 0.947697224213619']\n",
      "['At iteration 39 the best fitness is 0.947697224213619']\n",
      "['At iteration 40 the best fitness is 0.947697224213619']\n",
      "['At iteration 41 the best fitness is 0.947697224213619']\n",
      "['At iteration 42 the best fitness is 0.947697224213619']\n",
      "['At iteration 43 the best fitness is 0.947697224213619']\n",
      "['At iteration 44 the best fitness is 0.947697224213619']\n",
      "['At iteration 45 the best fitness is 0.947697224213619']\n",
      "['At iteration 46 the best fitness is 0.947697224213619']\n",
      "['At iteration 47 the best fitness is 0.947697224213619']\n",
      "['At iteration 48 the best fitness is 0.947697224213619']\n",
      "['At iteration 49 the best fitness is 0.947697224213619']\n",
      "['At iteration 50 the best fitness is 0.947697224213619']\n",
      "['At iteration 51 the best fitness is 0.947697224213619']\n",
      "['At iteration 52 the best fitness is 0.947697224213619']\n",
      "['At iteration 53 the best fitness is 0.947697224213619']\n",
      "['At iteration 54 the best fitness is 0.947697224213619']\n",
      "['At iteration 55 the best fitness is 0.947697224213619']\n",
      "['At iteration 56 the best fitness is 0.947697224213619']\n",
      "['At iteration 57 the best fitness is 0.947697224213619']\n",
      "['At iteration 58 the best fitness is 0.947697224213619']\n",
      "['At iteration 59 the best fitness is 0.947697224213619']\n",
      "['At iteration 60 the best fitness is 0.947697224213619']\n",
      "['At iteration 61 the best fitness is 0.947697224213619']\n",
      "['At iteration 62 the best fitness is 0.947697224213619']\n",
      "['At iteration 63 the best fitness is 0.947697224213619']\n",
      "['At iteration 64 the best fitness is 0.947697224213619']\n",
      "['At iteration 65 the best fitness is 0.947697224213619']\n",
      "['At iteration 66 the best fitness is 0.947697224213619']\n",
      "['At iteration 67 the best fitness is 0.947697224213619']\n",
      "['At iteration 68 the best fitness is 0.947697224213619']\n",
      "['At iteration 69 the best fitness is 0.947697224213619']\n",
      "['At iteration 70 the best fitness is 0.947697224213619']\n",
      "['At iteration 71 the best fitness is 0.947697224213619']\n",
      "['At iteration 72 the best fitness is 0.947697224213619']\n",
      "['At iteration 73 the best fitness is 0.947697224213619']\n",
      "['At iteration 74 the best fitness is 0.947697224213619']\n",
      "['At iteration 75 the best fitness is 0.947697224213619']\n",
      "['At iteration 76 the best fitness is 0.947697224213619']\n",
      "['At iteration 77 the best fitness is 0.947697224213619']\n",
      "['At iteration 78 the best fitness is 0.947697224213619']\n",
      "['At iteration 79 the best fitness is 0.947697224213619']\n",
      "['At iteration 80 the best fitness is 0.947697224213619']\n",
      "['At iteration 81 the best fitness is 0.947697224213619']\n",
      "['At iteration 82 the best fitness is 0.947697224213619']\n",
      "['At iteration 83 the best fitness is 0.947697224213619']\n",
      "['At iteration 84 the best fitness is 0.9420362665867437']\n",
      "['At iteration 85 the best fitness is 0.9420362665867437']\n",
      "['At iteration 86 the best fitness is 0.9420362665867437']\n",
      "['At iteration 87 the best fitness is 0.9420362665867437']\n",
      "['At iteration 88 the best fitness is 0.9420362665867437']\n",
      "['At iteration 89 the best fitness is 0.9420362665867437']\n",
      "['At iteration 90 the best fitness is 0.9420362665867437']\n",
      "['At iteration 91 the best fitness is 0.9420362665867437']\n",
      "['At iteration 92 the best fitness is 0.9420362665867437']\n",
      "['At iteration 93 the best fitness is 0.9420362665867437']\n",
      "['At iteration 94 the best fitness is 0.9420362665867437']\n",
      "['At iteration 95 the best fitness is 0.9420362665867437']\n",
      "['At iteration 96 the best fitness is 0.9420362665867437']\n",
      "['At iteration 97 the best fitness is 0.9420362665867437']\n",
      "['At iteration 98 the best fitness is 0.9420362665867437']\n",
      "['At iteration 99 the best fitness is 0.9420362665867437']\n"
     ]
    }
   ],
   "source": [
    "gwo = GreyWolfOptimizer(obj_func=get_loss_qutip, max_iterations=200, wolf_count=100, dimensions=45, upper_bound=2*np.pi, lower_bound=0, remove=20)\n",
    "grey_wolf_runs_qutip.append(gwo)\n"
   ]
  },
  {
   "cell_type": "code",
   "execution_count": null,
   "metadata": {},
   "outputs": [
    {
     "data": {
      "text/plain": [
       "[]"
      ]
     },
     "execution_count": 403,
     "metadata": {},
     "output_type": "execute_result"
    },
    {
     "data": {
      "image/png": "[encoded data removed]",
      "text/plain": [
       "<Figure size 432x288 with 1 Axes>"
      ]
     },
     "metadata": {
      "needs_background": "light"
     },
     "output_type": "display_data"
    }
   ],
   "source": [
    "print(\"With {} wolves, {} iterations, removing {} each iteration. It took {} minutes to get a final Hilbert-Schmidt distance of {}\".format(gwo._wolf_count, gwo._iterations, gwo._remove, gwo._time_take/60, gwo._best_fitness))\n",
    "plt.plot(gwo._converge_curve)\n",
    "plt.xlabel(\"Fitness score (Hilbert Schmidt Distance)\")\n",
    "plt.ylabel(\"Iterations\")\n",
    "plt.title(\"Grey Wolf Optimizer Convergence Curve\")\n",
    "plt.plot()"
   ]
  },
  {
   "cell_type": "markdown",
   "metadata": {},
   "source": [
    "Here's another run from earlier that I lost the data to:"
   ]
  },
  {
   "attachments": {
    "image.png": {
     "image/png": "[encoded data removed]"
    }
   },
   "cell_type": "markdown",
   "metadata": {},
   "source": [
    "![image.png](attachment:image.png)"
   ]
  },
  {
   "cell_type": "markdown",
   "metadata": {},
   "source": [
    "As you can see, these runs all seem to get stuck in local minimums in the 0.9ish range. This is not a very good result, as just the identity will give you a Hilbert Schmidt distance of 0.66. So what did we learn from this? 1) This is a tough problem for optimization, and 2) I wasted a lot of time running all of these to 1000 iterations. There seems to be some local minimums that are destroying the algorithms. Particle swarm and grey wolf unfortunately both are known for not having the best exploration abilities, and are more focused on exploitation. If I had more time, I'd probably write a custom artificial bee colony/particle swarm optimization algorithm for this problem, as that seems to be what researchers are finding works well with high-dimensional optimization problems. Artificial bee colony algorithms have great exploration. But this isn't an optimization class, so let's try this another way. Let's take the decomposition of the CCNOT gate found in Nielson and Chuang:"
   ]
  },
  {
   "attachments": {
    "image.png": {
     "image/png": "[encoded data removed]"
    }
   },
   "cell_type": "markdown",
   "metadata": {},
   "source": [
    "![image.png](attachment:image.png)"
   ]
  },
  {
   "cell_type": "markdown",
   "metadata": {},
   "source": [
    "And let's play around with it. How about we start by removing the top right portion, so that we're left with only 4 CNOT's:"
   ]
  },
  {
   "attachments": {
    "image.png": {
     "image/png": "[encoded data removed]"
    }
   },
   "cell_type": "markdown",
   "metadata": {},
   "source": [
    "![image.png](attachment:image.png)"
   ]
  },
  {
   "cell_type": "code",
   "execution_count": 481,
   "metadata": {},
   "outputs": [
    {
     "data": {
      "text/html": [
       "<pre style=\"word-wrap: normal;white-space: pre;background: #fff0;line-height: 1.1;font-family: &quot;Courier New&quot;,Courier,monospace\">     ┌───┐┌───┐┌─────┐┌───┐┌───┐┌───┐┌─────┐┌───┐┌───┐┌───┐\n",
       "q_0: ┤ H ├┤ X ├┤ Tdg ├┤ X ├┤ T ├┤ X ├┤ Tdg ├┤ X ├┤ T ├┤ H ├\n",
       "     └───┘└─┬─┘└─────┘└─┬─┘└───┘└─┬─┘└─────┘└─┬─┘└───┘└───┘\n",
       "q_1: ───────■───────────┼─────────■───────────┼────────────\n",
       "                        │                     │            \n",
       "q_2: ───────────────────■─────────────────────■────────────\n",
       "                                                           </pre>"
      ],
      "text/plain": [
       "     ┌───┐┌───┐┌─────┐┌───┐┌───┐┌───┐┌─────┐┌───┐┌───┐┌───┐\n",
       "q_0: ┤ H ├┤ X ├┤ Tdg ├┤ X ├┤ T ├┤ X ├┤ Tdg ├┤ X ├┤ T ├┤ H ├\n",
       "     └───┘└─┬─┘└─────┘└─┬─┘└───┘└─┬─┘└─────┘└─┬─┘└───┘└───┘\n",
       "q_1: ───────■───────────┼─────────■───────────┼────────────\n",
       "                        │                     │            \n",
       "q_2: ───────────────────■─────────────────────■────────────\n",
       "                                                           "
      ]
     },
     "execution_count": 481,
     "metadata": {},
     "output_type": "execute_result"
    }
   ],
   "source": [
    "partial_qc = QuantumCircuit(3)\n",
    "partial_qc.h(0)\n",
    "partial_qc.cnot(1,0)\n",
    "partial_qc.tdg(0)\n",
    "partial_qc.cnot(2,0)\n",
    "partial_qc.t(0)\n",
    "partial_qc.cnot(1,0)\n",
    "partial_qc.tdg(0)\n",
    "partial_qc.cnot(2,0)\n",
    "partial_qc.t(0)\n",
    "partial_qc.h(0)\n",
    "\n",
    "partial_qc.draw()\n"
   ]
  },
  {
   "cell_type": "markdown",
   "metadata": {},
   "source": [
    "There you can see it implemented in qiskit without the upper right (lower right in qiskit) block. How about we see what the Hilbert Schmidt distance is for this:"
   ]
  },
  {
   "cell_type": "code",
   "execution_count": 482,
   "metadata": {},
   "outputs": [
    {
     "data": {
      "text/latex": [
       "$$\n",
       "\n",
       "\\begin{bmatrix}\n",
       "1 & 0 & 0 & 0 & 0 & 0 & 0 & 0  \\\\\n",
       " 0 & 1 & 0 & 0 & 0 & 0 & 0 & 0  \\\\\n",
       " 0 & 0 & 1 & 0 & 0 & 0 & 0 & 0  \\\\\n",
       " 0 & 0 & 0 & 1 & 0 & 0 & 0 & 0  \\\\\n",
       " 0 & 0 & 0 & 0 & 1 & 0 & 0 & 0  \\\\\n",
       " 0 & 0 & 0 & 0 & 0 & 1 & 0 & 0  \\\\\n",
       " 0 & 0 & 0 & 0 & 0 & 0 & 0 & -i  \\\\\n",
       " 0 & 0 & 0 & 0 & 0 & 0 & -i & 0  \\\\\n",
       " \\end{bmatrix}\n",
       "$$"
      ],
      "text/plain": [
       "<IPython.core.display.Latex object>"
      ]
     },
     "execution_count": 482,
     "metadata": {},
     "output_type": "execute_result"
    }
   ],
   "source": [
    "partial_qc_job = execute(partial_qc, backend, shots=8192)\n",
    "partial_qc_result = partial_qc_job.result()\n",
    "partial_qc_matrix = partial_qc_result.get_unitary()\n",
    "array_to_latex(partial_qc_matrix)"
   ]
  },
  {
   "cell_type": "code",
   "execution_count": 510,
   "metadata": {},
   "outputs": [
    {
     "name": "stdout",
     "output_type": "stream",
     "text": [
      "Hilbert Schmidt Distance for abbreviated CCNOT circuit is 0.6123724356957945\n"
     ]
    }
   ],
   "source": [
    "print(\"Hilbert Schmidt Distance for abbreviated CCNOT circuit is {}\".format(hsd(partial_qc_matrix, ccnot_matrix, 3)))"
   ]
  },
  {
   "cell_type": "markdown",
   "metadata": {},
   "source": [
    "... Welp that's better than I got before, for so much less work. Moral of the story, don't overcomplicate things. On that note, let's complicate things again. What if we replaced the block that we removed with 2 parameterizable single qubit unitaries, and then optimized just those 6 parameters? Let's find out!"
   ]
  },
  {
   "cell_type": "code",
   "execution_count": 489,
   "metadata": {},
   "outputs": [],
   "source": [
    "# New loss function for new abbreviated CCNOT circuit with 2 parameterized single qubit gates at the end\n",
    "def get_loss_easy(params):\n",
    "    new_qc = QuantumCircuit(3)\n",
    "    new_qc.h(0)\n",
    "    new_qc.cnot(1,0)\n",
    "    new_qc.tdg(0)\n",
    "    new_qc.cnot(2,0)\n",
    "    new_qc.t(0)\n",
    "    new_qc.cnot(1,0)\n",
    "    new_qc.tdg(0)\n",
    "    new_qc.cnot(2,0)\n",
    "    new_qc.t(0)\n",
    "    new_qc.h(0)\n",
    "    new_qc.u(params[0], params[1], params[2], 1)\n",
    "    new_qc.u(params[3], params[4], params[5], 2)\n",
    "    job = execute(new_qc, backend, shots=8192)\n",
    "    result = job.result()\n",
    "    mat = result.get_unitary()\n",
    "    return hsd(mat, ccnot_matrix, 3)\n"
   ]
  },
  {
   "cell_type": "code",
   "execution_count": 490,
   "metadata": {},
   "outputs": [],
   "source": [
    "gwo_easy = []"
   ]
  },
  {
   "cell_type": "code",
   "execution_count": 508,
   "metadata": {},
   "outputs": [
    {
     "name": "stdout",
     "output_type": "stream",
     "text": [
      "['At iteration 0 the best fitness is 0.8974166423727983']\n",
      "['At iteration 1 the best fitness is 0.5603989022473984']\n",
      "['At iteration 2 the best fitness is 0.5603989022473984']\n",
      "['At iteration 3 the best fitness is 0.5603989022473984']\n",
      "['At iteration 4 the best fitness is 0.5603989022473984']\n",
      "['At iteration 5 the best fitness is 0.5603989022473984']\n",
      "['At iteration 6 the best fitness is 0.4297720521027396']\n",
      "['At iteration 7 the best fitness is 0.40281137520364607']\n",
      "['At iteration 8 the best fitness is 0.40281137520364607']\n",
      "['At iteration 9 the best fitness is 0.40281137520364607']\n",
      "['At iteration 10 the best fitness is 0.40281137520364607']\n",
      "['At iteration 11 the best fitness is 0.40281137520364607']\n",
      "['At iteration 12 the best fitness is 0.40281137520364607']\n",
      "['At iteration 13 the best fitness is 0.40281137520364607']\n",
      "['At iteration 14 the best fitness is 0.40281137520364607']\n",
      "['At iteration 15 the best fitness is 0.40281137520364607']\n",
      "['At iteration 16 the best fitness is 0.40281137520364607']\n",
      "['At iteration 17 the best fitness is 0.40281137520364607']\n",
      "['At iteration 18 the best fitness is 0.40281137520364607']\n",
      "['At iteration 19 the best fitness is 0.40281137520364607']\n",
      "['At iteration 20 the best fitness is 0.40281137520364607']\n",
      "['At iteration 21 the best fitness is 0.40281137520364607']\n",
      "['At iteration 22 the best fitness is 0.40281137520364607']\n",
      "['At iteration 23 the best fitness is 0.391994431165125']\n",
      "['At iteration 24 the best fitness is 0.391994431165125']\n",
      "['At iteration 25 the best fitness is 0.391994431165125']\n",
      "['At iteration 26 the best fitness is 0.391994431165125']\n",
      "['At iteration 27 the best fitness is 0.391994431165125']\n",
      "['At iteration 28 the best fitness is 0.391994431165125']\n",
      "['At iteration 29 the best fitness is 0.391994431165125']\n",
      "['At iteration 30 the best fitness is 0.391994431165125']\n",
      "['At iteration 31 the best fitness is 0.391994431165125']\n",
      "['At iteration 32 the best fitness is 0.391994431165125']\n",
      "['At iteration 33 the best fitness is 0.391994431165125']\n",
      "['At iteration 34 the best fitness is 0.391994431165125']\n",
      "['At iteration 35 the best fitness is 0.391994431165125']\n",
      "['At iteration 36 the best fitness is 0.391994431165125']\n",
      "['At iteration 37 the best fitness is 0.391994431165125']\n",
      "['At iteration 38 the best fitness is 0.38989626791159926']\n",
      "['At iteration 39 the best fitness is 0.38989626791159926']\n",
      "['At iteration 40 the best fitness is 0.3877800254901325']\n",
      "['At iteration 41 the best fitness is 0.3877800254901325']\n",
      "['At iteration 42 the best fitness is 0.3877800254901325']\n",
      "['At iteration 43 the best fitness is 0.3877800254901325']\n",
      "['At iteration 44 the best fitness is 0.3877800254901325']\n",
      "['At iteration 45 the best fitness is 0.3877800254901325']\n",
      "['At iteration 46 the best fitness is 0.3877800254901325']\n",
      "['At iteration 47 the best fitness is 0.3877800254901325']\n",
      "['At iteration 48 the best fitness is 0.3877800254901325']\n",
      "['At iteration 49 the best fitness is 0.3877800254901325']\n",
      "['At iteration 50 the best fitness is 0.3877800254901325']\n",
      "['At iteration 51 the best fitness is 0.3877800254901325']\n",
      "['At iteration 52 the best fitness is 0.3877800254901325']\n",
      "['At iteration 53 the best fitness is 0.3877800254901325']\n",
      "['At iteration 54 the best fitness is 0.3877800254901325']\n",
      "['At iteration 55 the best fitness is 0.3877800254901325']\n",
      "['At iteration 56 the best fitness is 0.3877800254901325']\n",
      "['At iteration 57 the best fitness is 0.3877800254901325']\n",
      "['At iteration 58 the best fitness is 0.38454202809179466']\n",
      "['At iteration 59 the best fitness is 0.38454202809179466']\n",
      "['At iteration 60 the best fitness is 0.38454202809179466']\n",
      "['At iteration 61 the best fitness is 0.38454202809179466']\n",
      "['At iteration 62 the best fitness is 0.38454202809179466']\n",
      "['At iteration 63 the best fitness is 0.38454202809179466']\n",
      "['At iteration 64 the best fitness is 0.3832124626621012']\n",
      "['At iteration 65 the best fitness is 0.3832124626621012']\n",
      "['At iteration 66 the best fitness is 0.3832124626621012']\n",
      "['At iteration 67 the best fitness is 0.3832124626621012']\n",
      "['At iteration 68 the best fitness is 0.3832124626621012']\n",
      "['At iteration 69 the best fitness is 0.3832124626621012']\n",
      "['At iteration 70 the best fitness is 0.3832124626621012']\n",
      "['At iteration 71 the best fitness is 0.3832124626621012']\n",
      "['At iteration 72 the best fitness is 0.3832124626621012']\n",
      "['At iteration 73 the best fitness is 0.3832124626621012']\n",
      "['At iteration 74 the best fitness is 0.3832124626621012']\n",
      "['At iteration 75 the best fitness is 0.3832124626621012']\n",
      "['At iteration 76 the best fitness is 0.3832124626621012']\n",
      "['At iteration 77 the best fitness is 0.3832124626621012']\n",
      "['At iteration 78 the best fitness is 0.3832124626621012']\n",
      "['At iteration 79 the best fitness is 0.3832124626621012']\n",
      "['At iteration 80 the best fitness is 0.3832124626621012']\n",
      "['At iteration 81 the best fitness is 0.3832124626621012']\n",
      "['At iteration 82 the best fitness is 0.3832124626621012']\n",
      "['At iteration 83 the best fitness is 0.3832124626621012']\n",
      "['At iteration 84 the best fitness is 0.3832124626621012']\n",
      "['At iteration 85 the best fitness is 0.3832124626621012']\n",
      "['At iteration 86 the best fitness is 0.3832124626621012']\n",
      "['At iteration 87 the best fitness is 0.3832124626621012']\n",
      "['At iteration 88 the best fitness is 0.3832124626621012']\n",
      "['At iteration 89 the best fitness is 0.3832124626621012']\n",
      "['At iteration 90 the best fitness is 0.3832124626621012']\n",
      "['At iteration 91 the best fitness is 0.3827137337896063']\n",
      "['At iteration 92 the best fitness is 0.3827137337896063']\n",
      "['At iteration 93 the best fitness is 0.3827137337896063']\n",
      "['At iteration 94 the best fitness is 0.3827137337896063']\n",
      "['At iteration 95 the best fitness is 0.3827137337896063']\n",
      "['At iteration 96 the best fitness is 0.3827137337896063']\n",
      "['At iteration 97 the best fitness is 0.3827137337896063']\n",
      "['At iteration 98 the best fitness is 0.3827137337896063']\n",
      "['At iteration 99 the best fitness is 0.3827137337896063']\n",
      "['At iteration 0 the best fitness is 0.8870527965311165']\n",
      "['At iteration 1 the best fitness is 0.8870527965311165']\n",
      "['At iteration 2 the best fitness is 0.5903282121399889']\n",
      "['At iteration 3 the best fitness is 0.5903282121399889']\n",
      "['At iteration 4 the best fitness is 0.5903282121399889']\n",
      "['At iteration 5 the best fitness is 0.5903282121399889']\n",
      "['At iteration 6 the best fitness is 0.555852784997896']\n",
      "['At iteration 7 the best fitness is 0.555852784997896']\n",
      "['At iteration 8 the best fitness is 0.555852784997896']\n",
      "['At iteration 9 the best fitness is 0.555852784997896']\n",
      "['At iteration 10 the best fitness is 0.555852784997896']\n",
      "['At iteration 11 the best fitness is 0.555852784997896']\n",
      "['At iteration 12 the best fitness is 0.555852784997896']\n",
      "['At iteration 13 the best fitness is 0.555852784997896']\n",
      "['At iteration 14 the best fitness is 0.555852784997896']\n",
      "['At iteration 15 the best fitness is 0.555852784997896']\n",
      "['At iteration 16 the best fitness is 0.555852784997896']\n",
      "['At iteration 17 the best fitness is 0.555852784997896']\n",
      "['At iteration 18 the best fitness is 0.555852784997896']\n",
      "['At iteration 19 the best fitness is 0.555852784997896']\n",
      "['At iteration 20 the best fitness is 0.4607125263612272']\n",
      "['At iteration 21 the best fitness is 0.4532558779029169']\n",
      "['At iteration 22 the best fitness is 0.4532558779029169']\n",
      "['At iteration 23 the best fitness is 0.4279044393410863']\n",
      "['At iteration 24 the best fitness is 0.3989336177808105']\n",
      "['At iteration 25 the best fitness is 0.3989336177808105']\n",
      "['At iteration 26 the best fitness is 0.3989336177808105']\n",
      "['At iteration 27 the best fitness is 0.38871144849433764']\n",
      "['At iteration 28 the best fitness is 0.3831064405106444']\n",
      "['At iteration 29 the best fitness is 0.3831064405106444']\n",
      "['At iteration 30 the best fitness is 0.3831064405106444']\n",
      "['At iteration 31 the best fitness is 0.3831064405106444']\n",
      "['At iteration 32 the best fitness is 0.3831064405106444']\n",
      "['At iteration 33 the best fitness is 0.3831064405106444']\n",
      "['At iteration 34 the best fitness is 0.3831064405106444']\n",
      "['At iteration 35 the best fitness is 0.3831064405106444']\n",
      "['At iteration 36 the best fitness is 0.3831064405106444']\n",
      "['At iteration 37 the best fitness is 0.3831064405106444']\n",
      "['At iteration 38 the best fitness is 0.3831064405106444']\n",
      "['At iteration 39 the best fitness is 0.3831064405106444']\n",
      "['At iteration 40 the best fitness is 0.3831064405106444']\n",
      "['At iteration 41 the best fitness is 0.3831064405106444']\n",
      "['At iteration 42 the best fitness is 0.3831064405106444']\n",
      "['At iteration 43 the best fitness is 0.3831064405106444']\n",
      "['At iteration 44 the best fitness is 0.3831064405106444']\n",
      "['At iteration 45 the best fitness is 0.3831064405106444']\n",
      "['At iteration 46 the best fitness is 0.3831064405106444']\n",
      "['At iteration 47 the best fitness is 0.3831064405106444']\n",
      "['At iteration 48 the best fitness is 0.3831064405106444']\n",
      "['At iteration 49 the best fitness is 0.3831064405106444']\n",
      "['At iteration 50 the best fitness is 0.3831064405106444']\n",
      "['At iteration 51 the best fitness is 0.3831064405106444']\n",
      "['At iteration 52 the best fitness is 0.3831064405106444']\n",
      "['At iteration 53 the best fitness is 0.3831064405106444']\n",
      "['At iteration 54 the best fitness is 0.3831064405106444']\n",
      "['At iteration 55 the best fitness is 0.3831064405106444']\n",
      "['At iteration 56 the best fitness is 0.3831064405106444']\n",
      "['At iteration 57 the best fitness is 0.3831064405106444']\n",
      "['At iteration 58 the best fitness is 0.3831064405106444']\n",
      "['At iteration 59 the best fitness is 0.3831064405106444']\n",
      "['At iteration 60 the best fitness is 0.3831064405106444']\n",
      "['At iteration 61 the best fitness is 0.3831064405106444']\n",
      "['At iteration 62 the best fitness is 0.3831064405106444']\n",
      "['At iteration 63 the best fitness is 0.3831064405106444']\n",
      "['At iteration 64 the best fitness is 0.3831064405106444']\n",
      "['At iteration 65 the best fitness is 0.3831064405106444']\n",
      "['At iteration 66 the best fitness is 0.3831064405106444']\n",
      "['At iteration 67 the best fitness is 0.3831064405106444']\n",
      "['At iteration 68 the best fitness is 0.3831064405106444']\n",
      "['At iteration 69 the best fitness is 0.3831064405106444']\n",
      "['At iteration 70 the best fitness is 0.3831064405106444']\n",
      "['At iteration 71 the best fitness is 0.3831064405106444']\n",
      "['At iteration 72 the best fitness is 0.3831064405106444']\n",
      "['At iteration 73 the best fitness is 0.3828267156861766']\n",
      "['At iteration 74 the best fitness is 0.3828267156861766']\n",
      "['At iteration 75 the best fitness is 0.3828267156861766']\n",
      "['At iteration 76 the best fitness is 0.3828267156861766']\n",
      "['At iteration 77 the best fitness is 0.3828267156861766']\n",
      "['At iteration 78 the best fitness is 0.38274056353054675']\n",
      "['At iteration 79 the best fitness is 0.38274056353054675']\n",
      "['At iteration 80 the best fitness is 0.38274056353054675']\n",
      "['At iteration 81 the best fitness is 0.38274056353054675']\n",
      "['At iteration 82 the best fitness is 0.38274056353054675']\n",
      "['At iteration 83 the best fitness is 0.38274056353054675']\n",
      "['At iteration 84 the best fitness is 0.38274056353054675']\n",
      "['At iteration 85 the best fitness is 0.38274056353054675']\n",
      "['At iteration 86 the best fitness is 0.38274056353054675']\n",
      "['At iteration 87 the best fitness is 0.38274056353054675']\n",
      "['At iteration 88 the best fitness is 0.38274056353054675']\n",
      "['At iteration 89 the best fitness is 0.38274056353054675']\n",
      "['At iteration 90 the best fitness is 0.38274056353054675']\n",
      "['At iteration 91 the best fitness is 0.38274056353054675']\n",
      "['At iteration 92 the best fitness is 0.38274056353054675']\n",
      "['At iteration 93 the best fitness is 0.38274056353054675']\n",
      "['At iteration 94 the best fitness is 0.38274056353054675']\n",
      "['At iteration 95 the best fitness is 0.38274056353054675']\n",
      "['At iteration 96 the best fitness is 0.38274056353054675']\n",
      "['At iteration 97 the best fitness is 0.38274056353054675']\n",
      "['At iteration 98 the best fitness is 0.38274056353054675']\n",
      "['At iteration 99 the best fitness is 0.38274056353054675']\n",
      "['At iteration 0 the best fitness is 0.8383581602635845']\n",
      "['At iteration 1 the best fitness is 0.8383581602635845']\n",
      "['At iteration 2 the best fitness is 0.8213726841848418']\n",
      "['At iteration 3 the best fitness is 0.6031684983898548']\n",
      "['At iteration 4 the best fitness is 0.6031684983898548']\n",
      "['At iteration 5 the best fitness is 0.6031684983898548']\n",
      "['At iteration 6 the best fitness is 0.4824476135303111']\n",
      "['At iteration 7 the best fitness is 0.4824476135303111']\n",
      "['At iteration 8 the best fitness is 0.4824476135303111']\n",
      "['At iteration 9 the best fitness is 0.4371882940380675']\n",
      "['At iteration 10 the best fitness is 0.4371882940380675']\n",
      "['At iteration 11 the best fitness is 0.4371882940380675']\n",
      "['At iteration 12 the best fitness is 0.4371882940380675']\n",
      "['At iteration 13 the best fitness is 0.4327090265935302']\n",
      "['At iteration 14 the best fitness is 0.4029161638421513']\n",
      "['At iteration 15 the best fitness is 0.4029161638421513']\n",
      "['At iteration 16 the best fitness is 0.4029161638421513']\n",
      "['At iteration 17 the best fitness is 0.4029161638421513']\n",
      "['At iteration 18 the best fitness is 0.4029161638421513']\n",
      "['At iteration 19 the best fitness is 0.3930927536864468']\n",
      "['At iteration 20 the best fitness is 0.3930927536864468']\n",
      "['At iteration 21 the best fitness is 0.3930927536864468']\n",
      "['At iteration 22 the best fitness is 0.3930927536864468']\n",
      "['At iteration 23 the best fitness is 0.3930927536864468']\n",
      "['At iteration 24 the best fitness is 0.3930927536864468']\n",
      "['At iteration 25 the best fitness is 0.3930927536864468']\n",
      "['At iteration 26 the best fitness is 0.3930927536864468']\n",
      "['At iteration 27 the best fitness is 0.3930927536864468']\n",
      "['At iteration 28 the best fitness is 0.389141256077199']\n",
      "['At iteration 29 the best fitness is 0.389141256077199']\n",
      "['At iteration 30 the best fitness is 0.389141256077199']\n",
      "['At iteration 31 the best fitness is 0.389141256077199']\n",
      "['At iteration 32 the best fitness is 0.389141256077199']\n",
      "['At iteration 33 the best fitness is 0.389141256077199']\n",
      "['At iteration 34 the best fitness is 0.389141256077199']\n",
      "['At iteration 35 the best fitness is 0.383539180389017']\n",
      "['At iteration 36 the best fitness is 0.383539180389017']\n",
      "['At iteration 37 the best fitness is 0.383539180389017']\n",
      "['At iteration 38 the best fitness is 0.383539180389017']\n",
      "['At iteration 39 the best fitness is 0.383539180389017']\n",
      "['At iteration 40 the best fitness is 0.383539180389017']\n",
      "['At iteration 41 the best fitness is 0.383539180389017']\n",
      "['At iteration 42 the best fitness is 0.383539180389017']\n",
      "['At iteration 43 the best fitness is 0.383539180389017']\n",
      "['At iteration 44 the best fitness is 0.383539180389017']\n",
      "['At iteration 45 the best fitness is 0.383539180389017']\n",
      "['At iteration 46 the best fitness is 0.383539180389017']\n",
      "['At iteration 47 the best fitness is 0.383539180389017']\n",
      "['At iteration 48 the best fitness is 0.383539180389017']\n",
      "['At iteration 49 the best fitness is 0.383539180389017']\n",
      "['At iteration 50 the best fitness is 0.383539180389017']\n",
      "['At iteration 51 the best fitness is 0.383539180389017']\n",
      "['At iteration 52 the best fitness is 0.383539180389017']\n",
      "['At iteration 53 the best fitness is 0.383539180389017']\n",
      "['At iteration 54 the best fitness is 0.383539180389017']\n",
      "['At iteration 55 the best fitness is 0.38303722465126844']\n",
      "['At iteration 56 the best fitness is 0.38303722465126844']\n",
      "['At iteration 57 the best fitness is 0.38303722465126844']\n",
      "['At iteration 58 the best fitness is 0.38303722465126844']\n",
      "['At iteration 59 the best fitness is 0.38303722465126844']\n",
      "['At iteration 60 the best fitness is 0.38303722465126844']\n",
      "['At iteration 61 the best fitness is 0.38303722465126844']\n",
      "['At iteration 62 the best fitness is 0.38303722465126844']\n",
      "['At iteration 63 the best fitness is 0.38303722465126844']\n",
      "['At iteration 64 the best fitness is 0.38303722465126844']\n",
      "['At iteration 65 the best fitness is 0.38303722465126844']\n",
      "['At iteration 66 the best fitness is 0.38303722465126844']\n",
      "['At iteration 67 the best fitness is 0.38303722465126844']\n",
      "['At iteration 68 the best fitness is 0.38303722465126844']\n",
      "['At iteration 69 the best fitness is 0.38303722465126844']\n",
      "['At iteration 70 the best fitness is 0.38303722465126844']\n",
      "['At iteration 71 the best fitness is 0.38303722465126844']\n",
      "['At iteration 72 the best fitness is 0.38303722465126844']\n",
      "['At iteration 73 the best fitness is 0.38303722465126844']\n",
      "['At iteration 74 the best fitness is 0.38303722465126844']\n",
      "['At iteration 75 the best fitness is 0.38303722465126844']\n",
      "['At iteration 76 the best fitness is 0.38303722465126844']\n",
      "['At iteration 77 the best fitness is 0.38303722465126844']\n",
      "['At iteration 78 the best fitness is 0.38303722465126844']\n",
      "['At iteration 79 the best fitness is 0.38303722465126844']\n",
      "['At iteration 80 the best fitness is 0.38303722465126844']\n",
      "['At iteration 81 the best fitness is 0.38303722465126844']\n",
      "['At iteration 82 the best fitness is 0.38303722465126844']\n",
      "['At iteration 83 the best fitness is 0.38303722465126844']\n",
      "['At iteration 84 the best fitness is 0.38303722465126844']\n",
      "['At iteration 85 the best fitness is 0.3829913218380829']\n",
      "['At iteration 86 the best fitness is 0.3829913218380829']\n",
      "['At iteration 87 the best fitness is 0.3829913218380829']\n",
      "['At iteration 88 the best fitness is 0.3829913218380829']\n",
      "['At iteration 89 the best fitness is 0.3829519732054455']\n",
      "['At iteration 90 the best fitness is 0.3829519732054455']\n",
      "['At iteration 91 the best fitness is 0.3829519732054455']\n",
      "['At iteration 92 the best fitness is 0.3829519732054455']\n",
      "['At iteration 93 the best fitness is 0.3829483157609219']\n",
      "['At iteration 94 the best fitness is 0.38294514197741775']\n",
      "['At iteration 95 the best fitness is 0.3829065527306041']\n",
      "['At iteration 96 the best fitness is 0.3829065527306041']\n",
      "['At iteration 97 the best fitness is 0.3829065527306041']\n",
      "['At iteration 98 the best fitness is 0.3829065527306041']\n",
      "['At iteration 99 the best fitness is 0.38290509483054447']\n",
      "['At iteration 0 the best fitness is 0.9256913850921289']\n",
      "['At iteration 1 the best fitness is 0.9256913850921289']\n",
      "['At iteration 2 the best fitness is 0.8263322339611949']\n",
      "['At iteration 3 the best fitness is 0.8263322339611949']\n",
      "['At iteration 4 the best fitness is 0.8263322339611949']\n",
      "['At iteration 5 the best fitness is 0.44060938998192767']\n",
      "['At iteration 6 the best fitness is 0.44060938998192767']\n",
      "['At iteration 7 the best fitness is 0.44060938998192767']\n",
      "['At iteration 8 the best fitness is 0.43617107947499695']\n",
      "['At iteration 9 the best fitness is 0.43617107947499695']\n",
      "['At iteration 10 the best fitness is 0.43617107947499695']\n",
      "['At iteration 11 the best fitness is 0.43617107947499695']\n",
      "['At iteration 12 the best fitness is 0.43617107947499695']\n",
      "['At iteration 13 the best fitness is 0.43617107947499695']\n",
      "['At iteration 14 the best fitness is 0.43617107947499695']\n",
      "['At iteration 15 the best fitness is 0.43617107947499695']\n",
      "['At iteration 16 the best fitness is 0.43617107947499695']\n",
      "['At iteration 17 the best fitness is 0.43617107947499695']\n",
      "['At iteration 18 the best fitness is 0.43617107947499695']\n",
      "['At iteration 19 the best fitness is 0.43617107947499695']\n",
      "['At iteration 20 the best fitness is 0.43617107947499695']\n",
      "['At iteration 21 the best fitness is 0.43617107947499695']\n",
      "['At iteration 22 the best fitness is 0.43617107947499695']\n",
      "['At iteration 23 the best fitness is 0.38538415147056315']\n",
      "['At iteration 24 the best fitness is 0.38538415147056315']\n",
      "['At iteration 25 the best fitness is 0.38538415147056315']\n",
      "['At iteration 26 the best fitness is 0.38538415147056315']\n",
      "['At iteration 27 the best fitness is 0.38538415147056315']\n",
      "['At iteration 28 the best fitness is 0.38538415147056315']\n",
      "['At iteration 29 the best fitness is 0.38538415147056315']\n",
      "['At iteration 30 the best fitness is 0.38538415147056315']\n",
      "['At iteration 31 the best fitness is 0.38538415147056315']\n",
      "['At iteration 32 the best fitness is 0.38538415147056315']\n",
      "['At iteration 33 the best fitness is 0.38538415147056315']\n",
      "['At iteration 34 the best fitness is 0.38538415147056315']\n",
      "['At iteration 35 the best fitness is 0.38538415147056315']\n",
      "['At iteration 36 the best fitness is 0.38538415147056315']\n",
      "['At iteration 37 the best fitness is 0.38538415147056315']\n",
      "['At iteration 38 the best fitness is 0.38538415147056315']\n",
      "['At iteration 39 the best fitness is 0.38538415147056315']\n",
      "['At iteration 40 the best fitness is 0.38538415147056315']\n",
      "['At iteration 41 the best fitness is 0.38538415147056315']\n",
      "['At iteration 42 the best fitness is 0.38538415147056315']\n",
      "['At iteration 43 the best fitness is 0.38538415147056315']\n",
      "['At iteration 44 the best fitness is 0.38538415147056315']\n",
      "['At iteration 45 the best fitness is 0.38538415147056315']\n",
      "['At iteration 46 the best fitness is 0.38538415147056315']\n",
      "['At iteration 47 the best fitness is 0.38538415147056315']\n",
      "['At iteration 48 the best fitness is 0.38538415147056315']\n",
      "['At iteration 49 the best fitness is 0.38538415147056315']\n",
      "['At iteration 50 the best fitness is 0.38538415147056315']\n",
      "['At iteration 51 the best fitness is 0.38538415147056315']\n",
      "['At iteration 52 the best fitness is 0.38538415147056315']\n",
      "['At iteration 53 the best fitness is 0.38538415147056315']\n",
      "['At iteration 54 the best fitness is 0.38538415147056315']\n",
      "['At iteration 55 the best fitness is 0.38538415147056315']\n",
      "['At iteration 56 the best fitness is 0.38538415147056315']\n",
      "['At iteration 57 the best fitness is 0.38538415147056315']\n",
      "['At iteration 58 the best fitness is 0.38538415147056315']\n",
      "['At iteration 59 the best fitness is 0.38538415147056315']\n",
      "['At iteration 60 the best fitness is 0.38538415147056315']\n",
      "['At iteration 61 the best fitness is 0.38538415147056315']\n",
      "['At iteration 62 the best fitness is 0.38538415147056315']\n",
      "['At iteration 63 the best fitness is 0.38538415147056315']\n",
      "['At iteration 64 the best fitness is 0.38538415147056315']\n",
      "['At iteration 65 the best fitness is 0.38538415147056315']\n",
      "['At iteration 66 the best fitness is 0.38538415147056315']\n",
      "['At iteration 67 the best fitness is 0.38538415147056315']\n",
      "['At iteration 68 the best fitness is 0.38538415147056315']\n",
      "['At iteration 69 the best fitness is 0.38538415147056315']\n",
      "['At iteration 70 the best fitness is 0.38538415147056315']\n",
      "['At iteration 71 the best fitness is 0.38538415147056315']\n",
      "['At iteration 72 the best fitness is 0.38538415147056315']\n",
      "['At iteration 73 the best fitness is 0.38538415147056315']\n",
      "['At iteration 74 the best fitness is 0.38538415147056315']\n",
      "['At iteration 75 the best fitness is 0.38538415147056315']\n",
      "['At iteration 76 the best fitness is 0.38538415147056315']\n",
      "['At iteration 77 the best fitness is 0.38538415147056315']\n",
      "['At iteration 78 the best fitness is 0.38538415147056315']\n",
      "['At iteration 79 the best fitness is 0.38538415147056315']\n",
      "['At iteration 80 the best fitness is 0.38538415147056315']\n",
      "['At iteration 81 the best fitness is 0.38538415147056315']\n",
      "['At iteration 82 the best fitness is 0.38332098735689335']\n",
      "['At iteration 83 the best fitness is 0.38332098735689335']\n",
      "['At iteration 84 the best fitness is 0.38332098735689335']\n",
      "['At iteration 85 the best fitness is 0.38332098735689335']\n",
      "['At iteration 86 the best fitness is 0.38332098735689335']\n",
      "['At iteration 87 the best fitness is 0.38332098735689335']\n",
      "['At iteration 88 the best fitness is 0.38332098735689335']\n",
      "['At iteration 89 the best fitness is 0.38332098735689335']\n",
      "['At iteration 90 the best fitness is 0.38332098735689335']\n",
      "['At iteration 91 the best fitness is 0.38332098735689335']\n",
      "['At iteration 92 the best fitness is 0.38332098735689335']\n",
      "['At iteration 93 the best fitness is 0.38332098735689335']\n",
      "['At iteration 94 the best fitness is 0.3827261046706782']\n",
      "['At iteration 95 the best fitness is 0.3827261046706782']\n",
      "['At iteration 96 the best fitness is 0.3827261046706782']\n",
      "['At iteration 97 the best fitness is 0.3827261046706782']\n",
      "['At iteration 98 the best fitness is 0.3827261046706782']\n",
      "['At iteration 99 the best fitness is 0.3827261046706782']\n",
      "['At iteration 0 the best fitness is 0.9184174014191271']\n",
      "['At iteration 1 the best fitness is 0.9184174014191271']\n",
      "['At iteration 2 the best fitness is 0.4482579688413708']\n",
      "['At iteration 3 the best fitness is 0.4482579688413708']\n",
      "['At iteration 4 the best fitness is 0.4482579688413708']\n",
      "['At iteration 5 the best fitness is 0.4482579688413708']\n",
      "['At iteration 6 the best fitness is 0.4482579688413708']\n",
      "['At iteration 7 the best fitness is 0.4482579688413708']\n",
      "['At iteration 8 the best fitness is 0.4482579688413708']\n",
      "['At iteration 9 the best fitness is 0.42274493674758695']\n",
      "['At iteration 10 the best fitness is 0.42274493674758695']\n",
      "['At iteration 11 the best fitness is 0.42274493674758695']\n",
      "['At iteration 12 the best fitness is 0.42274493674758695']\n",
      "['At iteration 13 the best fitness is 0.42274493674758695']\n",
      "['At iteration 14 the best fitness is 0.4113526815754364']\n",
      "['At iteration 15 the best fitness is 0.4113526815754364']\n",
      "['At iteration 16 the best fitness is 0.4113526815754364']\n",
      "['At iteration 17 the best fitness is 0.4113526815754364']\n",
      "['At iteration 18 the best fitness is 0.4113526815754364']\n",
      "['At iteration 19 the best fitness is 0.4113526815754364']\n",
      "['At iteration 20 the best fitness is 0.4113526815754364']\n",
      "['At iteration 21 the best fitness is 0.4113526815754364']\n",
      "['At iteration 22 the best fitness is 0.4113526815754364']\n",
      "['At iteration 23 the best fitness is 0.4113526815754364']\n",
      "['At iteration 24 the best fitness is 0.3956792181631658']\n",
      "['At iteration 25 the best fitness is 0.3956792181631658']\n",
      "['At iteration 26 the best fitness is 0.3956792181631658']\n",
      "['At iteration 27 the best fitness is 0.3956792181631658']\n",
      "['At iteration 28 the best fitness is 0.3956792181631658']\n",
      "['At iteration 29 the best fitness is 0.3956792181631658']\n",
      "['At iteration 30 the best fitness is 0.3956792181631658']\n",
      "['At iteration 31 the best fitness is 0.3956792181631658']\n",
      "['At iteration 32 the best fitness is 0.3956792181631658']\n",
      "['At iteration 33 the best fitness is 0.3956792181631658']\n",
      "['At iteration 34 the best fitness is 0.3956792181631658']\n",
      "['At iteration 35 the best fitness is 0.3956792181631658']\n",
      "['At iteration 36 the best fitness is 0.3956792181631658']\n",
      "['At iteration 37 the best fitness is 0.3956792181631658']\n",
      "['At iteration 38 the best fitness is 0.3956792181631658']\n",
      "['At iteration 39 the best fitness is 0.3956792181631658']\n",
      "['At iteration 40 the best fitness is 0.3956792181631658']\n",
      "['At iteration 41 the best fitness is 0.3956792181631658']\n",
      "['At iteration 42 the best fitness is 0.3956792181631658']\n",
      "['At iteration 43 the best fitness is 0.3956792181631658']\n",
      "['At iteration 44 the best fitness is 0.3956792181631658']\n",
      "['At iteration 45 the best fitness is 0.3956792181631658']\n",
      "['At iteration 46 the best fitness is 0.3956792181631658']\n",
      "['At iteration 47 the best fitness is 0.3956792181631658']\n",
      "['At iteration 48 the best fitness is 0.3956792181631658']\n",
      "['At iteration 49 the best fitness is 0.39129701064021216']\n",
      "['At iteration 50 the best fitness is 0.39129701064021216']\n",
      "['At iteration 51 the best fitness is 0.3830010080258692']\n",
      "['At iteration 52 the best fitness is 0.3830010080258692']\n",
      "['At iteration 53 the best fitness is 0.3830010080258692']\n",
      "['At iteration 54 the best fitness is 0.3830010080258692']\n",
      "['At iteration 55 the best fitness is 0.3830010080258692']\n",
      "['At iteration 56 the best fitness is 0.3830010080258692']\n",
      "['At iteration 57 the best fitness is 0.3830010080258692']\n",
      "['At iteration 58 the best fitness is 0.3830010080258692']\n",
      "['At iteration 59 the best fitness is 0.3830010080258692']\n",
      "['At iteration 60 the best fitness is 0.3830010080258692']\n",
      "['At iteration 61 the best fitness is 0.3830010080258692']\n",
      "['At iteration 62 the best fitness is 0.3830010080258692']\n",
      "['At iteration 63 the best fitness is 0.3830010080258692']\n",
      "['At iteration 64 the best fitness is 0.3830010080258692']\n",
      "['At iteration 65 the best fitness is 0.3830010080258692']\n",
      "['At iteration 66 the best fitness is 0.3830010080258692']\n",
      "['At iteration 67 the best fitness is 0.3830010080258692']\n",
      "['At iteration 68 the best fitness is 0.3830010080258692']\n",
      "['At iteration 69 the best fitness is 0.3830010080258692']\n",
      "['At iteration 70 the best fitness is 0.3830010080258692']\n",
      "['At iteration 71 the best fitness is 0.3830010080258692']\n",
      "['At iteration 72 the best fitness is 0.3830010080258692']\n",
      "['At iteration 73 the best fitness is 0.3830010080258692']\n",
      "['At iteration 74 the best fitness is 0.3830010080258692']\n",
      "['At iteration 75 the best fitness is 0.3830010080258692']\n",
      "['At iteration 76 the best fitness is 0.3830010080258692']\n",
      "['At iteration 77 the best fitness is 0.3830010080258692']\n",
      "['At iteration 78 the best fitness is 0.3830010080258692']\n",
      "['At iteration 79 the best fitness is 0.3830010080258692']\n",
      "['At iteration 80 the best fitness is 0.3830010080258692']\n",
      "['At iteration 81 the best fitness is 0.3830010080258692']\n",
      "['At iteration 82 the best fitness is 0.3830010080258692']\n",
      "['At iteration 83 the best fitness is 0.3830010080258692']\n",
      "['At iteration 84 the best fitness is 0.3830010080258692']\n",
      "['At iteration 85 the best fitness is 0.3830010080258692']\n",
      "['At iteration 86 the best fitness is 0.3830010080258692']\n",
      "['At iteration 87 the best fitness is 0.3830010080258692']\n",
      "['At iteration 88 the best fitness is 0.3830010080258692']\n",
      "['At iteration 89 the best fitness is 0.3830010080258692']\n",
      "['At iteration 90 the best fitness is 0.3830010080258692']\n",
      "['At iteration 91 the best fitness is 0.3830010080258692']\n",
      "['At iteration 92 the best fitness is 0.3830010080258692']\n",
      "['At iteration 93 the best fitness is 0.3830010080258692']\n",
      "['At iteration 94 the best fitness is 0.3830010080258692']\n",
      "['At iteration 95 the best fitness is 0.3830010080258692']\n",
      "['At iteration 96 the best fitness is 0.382707440088914']\n",
      "['At iteration 97 the best fitness is 0.382707440088914']\n",
      "['At iteration 98 the best fitness is 0.382707440088914']\n",
      "['At iteration 99 the best fitness is 0.382707440088914']\n"
     ]
    }
   ],
   "source": [
    "for i in range(5):\n",
    "    gwo = GreyWolfOptimizer(get_loss_easy, 100, 10, 6, 2*np.pi, 0, i)\n",
    "    gwo_easy.append(gwo)"
   ]
  },
  {
   "cell_type": "code",
   "execution_count": 511,
   "metadata": {},
   "outputs": [
    {
     "name": "stdout",
     "output_type": "stream",
     "text": [
      "With 20 wolves, 100 iterations, removing 4 each iteration. It took 0.8778865377108256 minutes to get a final Hilbert-Schmidt distance of 0.3826930882496907\n",
      "With 30 wolves, 100 iterations, removing 10 each iteration. It took 1.317774200439453 minutes to get a final Hilbert-Schmidt distance of 0.3827402385696495\n",
      "With 10 wolves, 100 iterations, removing 2 each iteration. It took 0.4251698970794678 minutes to get a final Hilbert-Schmidt distance of 0.3833565949111643\n",
      "With 20 wolves, 100 iterations, removing 6 each iteration. It took 0.8519065101941427 minutes to get a final Hilbert-Schmidt distance of 0.3828730895744155\n",
      "With 20 wolves, 100 iterations, removing 4 each iteration. It took 0.8348838607470195 minutes to get a final Hilbert-Schmidt distance of 0.382800549183523\n",
      "With 20 wolves, 100 iterations, removing 4 each iteration. It took 0.9587626139322917 minutes to get a final Hilbert-Schmidt distance of 0.3827148191105569\n",
      "With 20 wolves, 100 iterations, removing 4 each iteration. It took 1.0015201091766357 minutes to get a final Hilbert-Schmidt distance of 0.3826869896088198\n",
      "With 20 wolves, 100 iterations, removing 4 each iteration. It took 0.795825449625651 minutes to get a final Hilbert-Schmidt distance of 0.38301890995498494\n",
      "With 20 wolves, 100 iterations, removing 4 each iteration. It took 0.7829978505770365 minutes to get a final Hilbert-Schmidt distance of 0.3827009276421396\n",
      "With 20 wolves, 100 iterations, removing 4 each iteration. It took 0.7879528641700745 minutes to get a final Hilbert-Schmidt distance of 0.3827053045143915\n",
      "With 30 wolves, 100 iterations, removing 7 each iteration. It took 1.1935480833053589 minutes to get a final Hilbert-Schmidt distance of 0.3827092867449412\n",
      "With 30 wolves, 100 iterations, removing 7 each iteration. It took 1.081122342745463 minutes to get a final Hilbert-Schmidt distance of 0.38271958329809785\n",
      "With 30 wolves, 100 iterations, removing 7 each iteration. It took 1.0800428152084351 minutes to get a final Hilbert-Schmidt distance of 0.38268460456146497\n",
      "With 30 wolves, 100 iterations, removing 7 each iteration. It took 1.1903948227564494 minutes to get a final Hilbert-Schmidt distance of 0.38269866674059827\n",
      "With 30 wolves, 100 iterations, removing 7 each iteration. It took 1.141327404975891 minutes to get a final Hilbert-Schmidt distance of 0.38268366340941984\n",
      "With 30 wolves, 100 iterations, removing 0 each iteration. It took 1.1298765182495116 minutes to get a final Hilbert-Schmidt distance of 0.3828422908923139\n",
      "With 30 wolves, 100 iterations, removing 2 each iteration. It took 1.1209823767344156 minutes to get a final Hilbert-Schmidt distance of 0.38282079396543\n",
      "With 30 wolves, 100 iterations, removing 4 each iteration. It took 1.0884781320889791 minutes to get a final Hilbert-Schmidt distance of 0.38328257551047545\n",
      "With 30 wolves, 100 iterations, removing 6 each iteration. It took 1.2130110740661622 minutes to get a final Hilbert-Schmidt distance of 0.38268628036210767\n",
      "With 30 wolves, 100 iterations, removing 8 each iteration. It took 1.1174838304519654 minutes to get a final Hilbert-Schmidt distance of 0.3826836668140123\n",
      "With 20 wolves, 100 iterations, removing 0 each iteration. It took 0.7250721534093221 minutes to get a final Hilbert-Schmidt distance of 0.38269073787244184\n",
      "With 20 wolves, 100 iterations, removing 2 each iteration. It took 0.7594121734301249 minutes to get a final Hilbert-Schmidt distance of 0.434773725022872\n",
      "With 20 wolves, 100 iterations, removing 4 each iteration. It took 0.7398387630780537 minutes to get a final Hilbert-Schmidt distance of 0.3826897372914481\n",
      "With 20 wolves, 100 iterations, removing 6 each iteration. It took 0.8005324562390645 minutes to get a final Hilbert-Schmidt distance of 0.38277809352697\n",
      "With 20 wolves, 100 iterations, removing 8 each iteration. It took 0.737587324778239 minutes to get a final Hilbert-Schmidt distance of 0.3826911069101921\n",
      "With 10 wolves, 100 iterations, removing 0 each iteration. It took 0.4218100627263387 minutes to get a final Hilbert-Schmidt distance of 0.3827137337896063\n",
      "With 10 wolves, 100 iterations, removing 1 each iteration. It took 0.37118605375289915 minutes to get a final Hilbert-Schmidt distance of 0.38274056353054675\n",
      "With 10 wolves, 100 iterations, removing 2 each iteration. It took 0.40594765345255535 minutes to get a final Hilbert-Schmidt distance of 0.38290509483054447\n",
      "With 10 wolves, 100 iterations, removing 3 each iteration. It took 0.3957461396853129 minutes to get a final Hilbert-Schmidt distance of 0.3827261046706782\n",
      "With 10 wolves, 100 iterations, removing 4 each iteration. It took 0.38014668226242065 minutes to get a final Hilbert-Schmidt distance of 0.382707440088914\n",
      "\n",
      "\n",
      "The best Hilber Schmidt Distance I could get with this method is 0.38268366340941984. I probably could get better with some changes, but I don't have time to make them right now :(\n"
     ]
    }
   ],
   "source": [
    "best_hsd = 1\n",
    "best_params = []\n",
    "for gwo in gwo_easy:\n",
    "    print(\"With {} wolves, {} iterations, removing {} each iteration. It took {} minutes to get a final Hilbert-Schmidt distance of {}\".format(gwo._wolf_count, gwo._iterations, gwo._remove, gwo._time_take/60, gwo._best_fitness))\n",
    "    if gwo._best_fitness < best_hsd:\n",
    "        best_hsd = gwo._best_fitness\n",
    "        best_params = gwo._best_params\n",
    "    "
   ]
  },
  {
   "cell_type": "code",
   "execution_count": 515,
   "metadata": {},
   "outputs": [
    {
     "name": "stdout",
     "output_type": "stream",
     "text": [
      "\n",
      "\n",
      "The best Hilber Schmidt Distance I could get with this method is 0.38268366340941984. I maybe could get better with some changes, but I don't have time to make them right now :(\n",
      "Now let's look at the matrix using the best parameters found:\n"
     ]
    },
    {
     "data": {
      "text/latex": [
       "$$\n",
       "\n",
       "\\begin{bmatrix}\n",
       "-1 & 0 & 0 & 0 & 0 & 0 & 0 & 0  \\\\\n",
       " 0 & -1 & 0 & 0 & 0 & 0 & 0 & 0  \\\\\n",
       " 0 & 0 & -0.708 - 0.707i & 0 & 0 & 0 & 0 & 0  \\\\\n",
       " 0 & 0 & 0 & -0.708 - 0.707i & 0 & 0 & 0 & 0  \\\\\n",
       " 0 & 0 & 0 & 0 & 0.707(-1 - i) & 0 & 0 & 0  \\\\\n",
       " 0 & 0 & 0 & 0 & 0 & 0.707(-1 - i) & 0 & 0  \\\\\n",
       " 0 & 0 & 0 & 0 & 0 & 0 & 0 & -1 + 0.001i  \\\\\n",
       " 0 & 0 & 0 & 0 & 0 & 0 & -1 + 0.001i & 0  \\\\\n",
       " \\end{bmatrix}\n",
       "$$"
      ],
      "text/plain": [
       "<IPython.core.display.Latex object>"
      ]
     },
     "execution_count": 515,
     "metadata": {},
     "output_type": "execute_result"
    }
   ],
   "source": [
    "print(\"\\n\\nThe best Hilber Schmidt Distance I could get with this method is {}. I maybe could get better with some changes, but I don't have time to make them right now :(\".format(best_hsd))\n",
    "print(\"Now let's look at the matrix using the best parameters found:\")\n",
    "best_qc = QuantumCircuit(3)\n",
    "best_qc.h(0)\n",
    "best_qc.cnot(1,0)\n",
    "best_qc.tdg(0)\n",
    "best_qc.cnot(2,0)\n",
    "best_qc.t(0)\n",
    "best_qc.cnot(1,0)\n",
    "best_qc.tdg(0)\n",
    "best_qc.cnot(2,0)\n",
    "best_qc.t(0)\n",
    "best_qc.h(0)\n",
    "best_qc.u(best_params[0], best_params[1], best_params[2], 1)\n",
    "best_qc.u(best_params[3], best_params[4], best_params[5], 2)\n",
    "job = execute(best_qc, backend, shots=8192)\n",
    "result = job.result()\n",
    "best_mat = result.get_unitary(best_qc, 3)\n",
    "array_to_latex(best_mat)"
   ]
  },
  {
   "cell_type": "code",
   "execution_count": 516,
   "metadata": {},
   "outputs": [
    {
     "name": "stdout",
     "output_type": "stream",
     "text": [
      "[5.86061043e-04 7.56855445e-01 2.78976235e-02 6.28307953e+00\n",
      " 6.28318531e+00 7.85157557e-01]\n"
     ]
    }
   ],
   "source": [
    "print(best_params)"
   ]
  },
  {
   "cell_type": "markdown",
   "metadata": {},
   "source": [
    "Final thoughts: I feel like an important take away from this is that the best answer involved combining \"physics\" (just reasoning out a better solution rather than brute forcing optimization) and \"computer science\" (brute forcing optimization). I spent probably a grand total of 20+ hours just on the original 45 parameter optimizing part, expecting it to work if I tried hard enough. That was a huge mistake, I wish I had started from the \"physics\" approach, because that took me like an hour to set up (though I ran the optimization for a while).\n",
    "Also, most importantly, MY WOLF OPTIMIZER WORKED SO WELL!!!!!!!"
   ]
  }
 ],
 "metadata": {
  "kernelspec": {
   "display_name": "Python 3",
   "language": "python",
   "name": "python3"
  },
  "language_info": {
   "codemirror_mode": {
    "name": "ipython",
    "version": 3
   },
   "file_extension": ".py",
   "mimetype": "text/x-python",
   "name": "python",
   "nbconvert_exporter": "python",
   "pygments_lexer": "ipython3",
   "version": "3.8.3"
  },
  "vscode": {
   "interpreter": {
    "hash": "1870f1194fb5b3d43b6d32e845741389586dbe9c4e1e45e17e0f6602cfe22778"
   }
  }
 },
 "nbformat": 4,
 "nbformat_minor": 4
}
